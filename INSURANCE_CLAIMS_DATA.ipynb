{
 "cells": [
  {
   "cell_type": "code",
   "execution_count": 1,
   "id": "e9a00143",
   "metadata": {},
   "outputs": [],
   "source": [
    "import numpy as np\n",
    "import pandas as pd\n",
    "import matplotlib.pyplot as plt\n",
    "import seaborn as sns\n",
    "import scipy.stats as stats\n",
    "import warnings\n",
    "warnings.filterwarnings('ignore')"
   ]
  },
  {
   "cell_type": "markdown",
   "id": "e3c3f302",
   "metadata": {},
   "source": [
    "#### 1. Import claims_data.csv and cust_data.csv which is provided to you and combine the two datasets appropriately to create a 360-degree view of the data. Use the same for the subsequent questions."
   ]
  },
  {
   "cell_type": "code",
   "execution_count": 3,
   "id": "a66e3d81",
   "metadata": {},
   "outputs": [],
   "source": [
    "claims_data=pd.read_csv('/Users/himanshusaini/Desktop/projects & assignments/Python Foundation Case Study 3 - Insurance Claims Case Study/claims.csv')\n",
    "customer_data=pd.read_csv('/Users/himanshusaini/Desktop/projects & assignments/Python Foundation Case Study 3 - Insurance Claims Case Study/cust_demographics.csv')"
   ]
  },
  {
   "cell_type": "code",
   "execution_count": 4,
   "id": "3314ab2a",
   "metadata": {},
   "outputs": [
    {
     "data": {
      "text/html": [
       "<div>\n",
       "<style scoped>\n",
       "    .dataframe tbody tr th:only-of-type {\n",
       "        vertical-align: middle;\n",
       "    }\n",
       "\n",
       "    .dataframe tbody tr th {\n",
       "        vertical-align: top;\n",
       "    }\n",
       "\n",
       "    .dataframe thead th {\n",
       "        text-align: right;\n",
       "    }\n",
       "</style>\n",
       "<table border=\"1\" class=\"dataframe\">\n",
       "  <thead>\n",
       "    <tr style=\"text-align: right;\">\n",
       "      <th></th>\n",
       "      <th>claim_id</th>\n",
       "      <th>customer_id</th>\n",
       "      <th>incident_cause</th>\n",
       "      <th>claim_date</th>\n",
       "      <th>claim_area</th>\n",
       "      <th>police_report</th>\n",
       "      <th>claim_type</th>\n",
       "      <th>claim_amount</th>\n",
       "      <th>total_policy_claims</th>\n",
       "      <th>fraudulent</th>\n",
       "    </tr>\n",
       "  </thead>\n",
       "  <tbody>\n",
       "    <tr>\n",
       "      <th>0</th>\n",
       "      <td>54004764</td>\n",
       "      <td>21868593</td>\n",
       "      <td>Driver error</td>\n",
       "      <td>11/27/2017</td>\n",
       "      <td>Auto</td>\n",
       "      <td>No</td>\n",
       "      <td>Material only</td>\n",
       "      <td>$2980</td>\n",
       "      <td>1.0</td>\n",
       "      <td>No</td>\n",
       "    </tr>\n",
       "    <tr>\n",
       "      <th>1</th>\n",
       "      <td>33985796</td>\n",
       "      <td>75740424</td>\n",
       "      <td>Crime</td>\n",
       "      <td>10/03/2018</td>\n",
       "      <td>Home</td>\n",
       "      <td>Unknown</td>\n",
       "      <td>Material only</td>\n",
       "      <td>$2980</td>\n",
       "      <td>3.0</td>\n",
       "      <td>No</td>\n",
       "    </tr>\n",
       "    <tr>\n",
       "      <th>2</th>\n",
       "      <td>53522022</td>\n",
       "      <td>30308357</td>\n",
       "      <td>Other driver error</td>\n",
       "      <td>02/02/2018</td>\n",
       "      <td>Auto</td>\n",
       "      <td>No</td>\n",
       "      <td>Material only</td>\n",
       "      <td>$3369.5</td>\n",
       "      <td>1.0</td>\n",
       "      <td>Yes</td>\n",
       "    </tr>\n",
       "    <tr>\n",
       "      <th>3</th>\n",
       "      <td>13015401</td>\n",
       "      <td>47830476</td>\n",
       "      <td>Natural causes</td>\n",
       "      <td>06/17/2018</td>\n",
       "      <td>Auto</td>\n",
       "      <td>No</td>\n",
       "      <td>Material only</td>\n",
       "      <td>$1680</td>\n",
       "      <td>1.0</td>\n",
       "      <td>No</td>\n",
       "    </tr>\n",
       "    <tr>\n",
       "      <th>4</th>\n",
       "      <td>22890252</td>\n",
       "      <td>19269962</td>\n",
       "      <td>Crime</td>\n",
       "      <td>01/13/2018</td>\n",
       "      <td>Auto</td>\n",
       "      <td>No</td>\n",
       "      <td>Material only</td>\n",
       "      <td>$2680</td>\n",
       "      <td>1.0</td>\n",
       "      <td>No</td>\n",
       "    </tr>\n",
       "  </tbody>\n",
       "</table>\n",
       "</div>"
      ],
      "text/plain": [
       "   claim_id  customer_id      incident_cause  claim_date claim_area  \\\n",
       "0  54004764     21868593        Driver error  11/27/2017       Auto   \n",
       "1  33985796     75740424               Crime  10/03/2018       Home   \n",
       "2  53522022     30308357  Other driver error  02/02/2018       Auto   \n",
       "3  13015401     47830476      Natural causes  06/17/2018       Auto   \n",
       "4  22890252     19269962               Crime  01/13/2018       Auto   \n",
       "\n",
       "  police_report     claim_type claim_amount  total_policy_claims fraudulent  \n",
       "0            No  Material only        $2980                  1.0         No  \n",
       "1       Unknown  Material only        $2980                  3.0         No  \n",
       "2            No  Material only      $3369.5                  1.0        Yes  \n",
       "3            No  Material only        $1680                  1.0         No  \n",
       "4            No  Material only        $2680                  1.0         No  "
      ]
     },
     "execution_count": 4,
     "metadata": {},
     "output_type": "execute_result"
    }
   ],
   "source": [
    "claims_data.head()"
   ]
  },
  {
   "cell_type": "code",
   "execution_count": 5,
   "id": "47d733a4",
   "metadata": {},
   "outputs": [],
   "source": [
    "claim_id_data=pd.merge(left=customer_data,right=claims_data,right_on='customer_id',left_on='CUST_ID',how='outer')"
   ]
  },
  {
   "cell_type": "code",
   "execution_count": 6,
   "id": "93a8bd62",
   "metadata": {},
   "outputs": [],
   "source": [
    "claim_id_data.drop(columns='customer_id',inplace=True)"
   ]
  },
  {
   "cell_type": "code",
   "execution_count": 7,
   "id": "5cd2a145",
   "metadata": {},
   "outputs": [
    {
     "data": {
      "text/html": [
       "<div>\n",
       "<style scoped>\n",
       "    .dataframe tbody tr th:only-of-type {\n",
       "        vertical-align: middle;\n",
       "    }\n",
       "\n",
       "    .dataframe tbody tr th {\n",
       "        vertical-align: top;\n",
       "    }\n",
       "\n",
       "    .dataframe thead th {\n",
       "        text-align: right;\n",
       "    }\n",
       "</style>\n",
       "<table border=\"1\" class=\"dataframe\">\n",
       "  <thead>\n",
       "    <tr style=\"text-align: right;\">\n",
       "      <th></th>\n",
       "      <th>CUST_ID</th>\n",
       "      <th>gender</th>\n",
       "      <th>DateOfBirth</th>\n",
       "      <th>State</th>\n",
       "      <th>Contact</th>\n",
       "      <th>Segment</th>\n",
       "      <th>claim_id</th>\n",
       "      <th>incident_cause</th>\n",
       "      <th>claim_date</th>\n",
       "      <th>claim_area</th>\n",
       "      <th>police_report</th>\n",
       "      <th>claim_type</th>\n",
       "      <th>claim_amount</th>\n",
       "      <th>total_policy_claims</th>\n",
       "      <th>fraudulent</th>\n",
       "    </tr>\n",
       "  </thead>\n",
       "  <tbody>\n",
       "    <tr>\n",
       "      <th>0</th>\n",
       "      <td>21868593.0</td>\n",
       "      <td>Female</td>\n",
       "      <td>12-Jan-79</td>\n",
       "      <td>VT</td>\n",
       "      <td>789-916-8172</td>\n",
       "      <td>Platinum</td>\n",
       "      <td>54004764.0</td>\n",
       "      <td>Driver error</td>\n",
       "      <td>11/27/2017</td>\n",
       "      <td>Auto</td>\n",
       "      <td>No</td>\n",
       "      <td>Material only</td>\n",
       "      <td>$2980</td>\n",
       "      <td>1.0</td>\n",
       "      <td>No</td>\n",
       "    </tr>\n",
       "    <tr>\n",
       "      <th>1</th>\n",
       "      <td>75740424.0</td>\n",
       "      <td>Female</td>\n",
       "      <td>13-Jan-70</td>\n",
       "      <td>ME</td>\n",
       "      <td>265-543-1264</td>\n",
       "      <td>Silver</td>\n",
       "      <td>33985796.0</td>\n",
       "      <td>Crime</td>\n",
       "      <td>10/03/2018</td>\n",
       "      <td>Home</td>\n",
       "      <td>Unknown</td>\n",
       "      <td>Material only</td>\n",
       "      <td>$2980</td>\n",
       "      <td>3.0</td>\n",
       "      <td>No</td>\n",
       "    </tr>\n",
       "    <tr>\n",
       "      <th>2</th>\n",
       "      <td>30308357.0</td>\n",
       "      <td>Female</td>\n",
       "      <td>11-Mar-84</td>\n",
       "      <td>TN</td>\n",
       "      <td>798-631-4758</td>\n",
       "      <td>Silver</td>\n",
       "      <td>53522022.0</td>\n",
       "      <td>Other driver error</td>\n",
       "      <td>02/02/2018</td>\n",
       "      <td>Auto</td>\n",
       "      <td>No</td>\n",
       "      <td>Material only</td>\n",
       "      <td>$3369.5</td>\n",
       "      <td>1.0</td>\n",
       "      <td>Yes</td>\n",
       "    </tr>\n",
       "    <tr>\n",
       "      <th>3</th>\n",
       "      <td>30308357.0</td>\n",
       "      <td>Female</td>\n",
       "      <td>11-Mar-84</td>\n",
       "      <td>TN</td>\n",
       "      <td>798-631-4758</td>\n",
       "      <td>Silver</td>\n",
       "      <td>63017412.0</td>\n",
       "      <td>Driver error</td>\n",
       "      <td>04/04/2018</td>\n",
       "      <td>Auto</td>\n",
       "      <td>No</td>\n",
       "      <td>Material only</td>\n",
       "      <td>$1950</td>\n",
       "      <td>6.0</td>\n",
       "      <td>No</td>\n",
       "    </tr>\n",
       "    <tr>\n",
       "      <th>4</th>\n",
       "      <td>47830476.0</td>\n",
       "      <td>Female</td>\n",
       "      <td>01-May-86</td>\n",
       "      <td>MA</td>\n",
       "      <td>413-187-7945</td>\n",
       "      <td>Silver</td>\n",
       "      <td>13015401.0</td>\n",
       "      <td>Natural causes</td>\n",
       "      <td>06/17/2018</td>\n",
       "      <td>Auto</td>\n",
       "      <td>No</td>\n",
       "      <td>Material only</td>\n",
       "      <td>$1680</td>\n",
       "      <td>1.0</td>\n",
       "      <td>No</td>\n",
       "    </tr>\n",
       "    <tr>\n",
       "      <th>...</th>\n",
       "      <td>...</td>\n",
       "      <td>...</td>\n",
       "      <td>...</td>\n",
       "      <td>...</td>\n",
       "      <td>...</td>\n",
       "      <td>...</td>\n",
       "      <td>...</td>\n",
       "      <td>...</td>\n",
       "      <td>...</td>\n",
       "      <td>...</td>\n",
       "      <td>...</td>\n",
       "      <td>...</td>\n",
       "      <td>...</td>\n",
       "      <td>...</td>\n",
       "      <td>...</td>\n",
       "    </tr>\n",
       "    <tr>\n",
       "      <th>1102</th>\n",
       "      <td>NaN</td>\n",
       "      <td>NaN</td>\n",
       "      <td>NaN</td>\n",
       "      <td>NaN</td>\n",
       "      <td>NaN</td>\n",
       "      <td>NaN</td>\n",
       "      <td>97727122.0</td>\n",
       "      <td>Other driver error</td>\n",
       "      <td>06/11/2017</td>\n",
       "      <td>Auto</td>\n",
       "      <td>No</td>\n",
       "      <td>Material only</td>\n",
       "      <td>$3059</td>\n",
       "      <td>4.0</td>\n",
       "      <td>Yes</td>\n",
       "    </tr>\n",
       "    <tr>\n",
       "      <th>1103</th>\n",
       "      <td>NaN</td>\n",
       "      <td>NaN</td>\n",
       "      <td>NaN</td>\n",
       "      <td>NaN</td>\n",
       "      <td>NaN</td>\n",
       "      <td>NaN</td>\n",
       "      <td>10247193.0</td>\n",
       "      <td>Natural causes</td>\n",
       "      <td>03/14/2018</td>\n",
       "      <td>Auto</td>\n",
       "      <td>No</td>\n",
       "      <td>Material only</td>\n",
       "      <td>$1520</td>\n",
       "      <td>2.0</td>\n",
       "      <td>No</td>\n",
       "    </tr>\n",
       "    <tr>\n",
       "      <th>1104</th>\n",
       "      <td>NaN</td>\n",
       "      <td>NaN</td>\n",
       "      <td>NaN</td>\n",
       "      <td>NaN</td>\n",
       "      <td>NaN</td>\n",
       "      <td>NaN</td>\n",
       "      <td>79807493.0</td>\n",
       "      <td>Other driver error</td>\n",
       "      <td>02/09/2018</td>\n",
       "      <td>Auto</td>\n",
       "      <td>No</td>\n",
       "      <td>Material and injury</td>\n",
       "      <td>$23575</td>\n",
       "      <td>2.0</td>\n",
       "      <td>Yes</td>\n",
       "    </tr>\n",
       "    <tr>\n",
       "      <th>1105</th>\n",
       "      <td>NaN</td>\n",
       "      <td>NaN</td>\n",
       "      <td>NaN</td>\n",
       "      <td>NaN</td>\n",
       "      <td>NaN</td>\n",
       "      <td>NaN</td>\n",
       "      <td>69299345.0</td>\n",
       "      <td>Other causes</td>\n",
       "      <td>03/21/2018</td>\n",
       "      <td>Auto</td>\n",
       "      <td>Unknown</td>\n",
       "      <td>Material and injury</td>\n",
       "      <td>$25120</td>\n",
       "      <td>1.0</td>\n",
       "      <td>No</td>\n",
       "    </tr>\n",
       "    <tr>\n",
       "      <th>1106</th>\n",
       "      <td>NaN</td>\n",
       "      <td>NaN</td>\n",
       "      <td>NaN</td>\n",
       "      <td>NaN</td>\n",
       "      <td>NaN</td>\n",
       "      <td>NaN</td>\n",
       "      <td>58809728.0</td>\n",
       "      <td>Other driver error</td>\n",
       "      <td>06/04/2017</td>\n",
       "      <td>Auto</td>\n",
       "      <td>Yes</td>\n",
       "      <td>Material and injury</td>\n",
       "      <td>$36685</td>\n",
       "      <td>3.0</td>\n",
       "      <td>Yes</td>\n",
       "    </tr>\n",
       "  </tbody>\n",
       "</table>\n",
       "<p>1107 rows × 15 columns</p>\n",
       "</div>"
      ],
      "text/plain": [
       "         CUST_ID  gender DateOfBirth State       Contact   Segment  \\\n",
       "0     21868593.0  Female   12-Jan-79    VT  789-916-8172  Platinum   \n",
       "1     75740424.0  Female   13-Jan-70    ME  265-543-1264    Silver   \n",
       "2     30308357.0  Female   11-Mar-84    TN  798-631-4758    Silver   \n",
       "3     30308357.0  Female   11-Mar-84    TN  798-631-4758    Silver   \n",
       "4     47830476.0  Female   01-May-86    MA  413-187-7945    Silver   \n",
       "...          ...     ...         ...   ...           ...       ...   \n",
       "1102         NaN     NaN         NaN   NaN           NaN       NaN   \n",
       "1103         NaN     NaN         NaN   NaN           NaN       NaN   \n",
       "1104         NaN     NaN         NaN   NaN           NaN       NaN   \n",
       "1105         NaN     NaN         NaN   NaN           NaN       NaN   \n",
       "1106         NaN     NaN         NaN   NaN           NaN       NaN   \n",
       "\n",
       "        claim_id      incident_cause  claim_date claim_area police_report  \\\n",
       "0     54004764.0        Driver error  11/27/2017       Auto            No   \n",
       "1     33985796.0               Crime  10/03/2018       Home       Unknown   \n",
       "2     53522022.0  Other driver error  02/02/2018       Auto            No   \n",
       "3     63017412.0        Driver error  04/04/2018       Auto            No   \n",
       "4     13015401.0      Natural causes  06/17/2018       Auto            No   \n",
       "...          ...                 ...         ...        ...           ...   \n",
       "1102  97727122.0  Other driver error  06/11/2017       Auto            No   \n",
       "1103  10247193.0      Natural causes  03/14/2018       Auto            No   \n",
       "1104  79807493.0  Other driver error  02/09/2018       Auto            No   \n",
       "1105  69299345.0        Other causes  03/21/2018       Auto       Unknown   \n",
       "1106  58809728.0  Other driver error  06/04/2017       Auto           Yes   \n",
       "\n",
       "               claim_type claim_amount  total_policy_claims fraudulent  \n",
       "0           Material only        $2980                  1.0         No  \n",
       "1           Material only        $2980                  3.0         No  \n",
       "2           Material only      $3369.5                  1.0        Yes  \n",
       "3           Material only        $1950                  6.0         No  \n",
       "4           Material only        $1680                  1.0         No  \n",
       "...                   ...          ...                  ...        ...  \n",
       "1102        Material only        $3059                  4.0        Yes  \n",
       "1103        Material only        $1520                  2.0         No  \n",
       "1104  Material and injury       $23575                  2.0        Yes  \n",
       "1105  Material and injury       $25120                  1.0         No  \n",
       "1106  Material and injury       $36685                  3.0        Yes  \n",
       "\n",
       "[1107 rows x 15 columns]"
      ]
     },
     "execution_count": 7,
     "metadata": {},
     "output_type": "execute_result"
    }
   ],
   "source": [
    "claim_id_data"
   ]
  },
  {
   "cell_type": "markdown",
   "id": "c171c6e6",
   "metadata": {},
   "source": [
    "#### 2. Perform a data audit for the datatypes and find out if there are any mismatch within the current datatypes of the columns and their business significance."
   ]
  },
  {
   "cell_type": "code",
   "execution_count": 13,
   "id": "87e19fdb",
   "metadata": {},
   "outputs": [
    {
     "data": {
      "text/html": [
       "<div>\n",
       "<style scoped>\n",
       "    .dataframe tbody tr th:only-of-type {\n",
       "        vertical-align: middle;\n",
       "    }\n",
       "\n",
       "    .dataframe tbody tr th {\n",
       "        vertical-align: top;\n",
       "    }\n",
       "\n",
       "    .dataframe thead th {\n",
       "        text-align: right;\n",
       "    }\n",
       "</style>\n",
       "<table border=\"1\" class=\"dataframe\">\n",
       "  <thead>\n",
       "    <tr style=\"text-align: right;\">\n",
       "      <th></th>\n",
       "      <th>CUST_ID</th>\n",
       "      <th>gender</th>\n",
       "      <th>DateOfBirth</th>\n",
       "      <th>State</th>\n",
       "      <th>Contact</th>\n",
       "      <th>Segment</th>\n",
       "      <th>claim_id</th>\n",
       "      <th>incident_cause</th>\n",
       "      <th>claim_date</th>\n",
       "      <th>claim_area</th>\n",
       "      <th>police_report</th>\n",
       "      <th>claim_type</th>\n",
       "      <th>claim_amount</th>\n",
       "      <th>total_policy_claims</th>\n",
       "      <th>fraudulent</th>\n",
       "    </tr>\n",
       "  </thead>\n",
       "  <tbody>\n",
       "    <tr>\n",
       "      <th>0</th>\n",
       "      <td>21868593.0</td>\n",
       "      <td>Female</td>\n",
       "      <td>12-Jan-79</td>\n",
       "      <td>VT</td>\n",
       "      <td>789-916-8172</td>\n",
       "      <td>Platinum</td>\n",
       "      <td>54004764.0</td>\n",
       "      <td>Driver error</td>\n",
       "      <td>11/27/2017</td>\n",
       "      <td>Auto</td>\n",
       "      <td>No</td>\n",
       "      <td>Material only</td>\n",
       "      <td>$2980</td>\n",
       "      <td>1.0</td>\n",
       "      <td>No</td>\n",
       "    </tr>\n",
       "    <tr>\n",
       "      <th>1</th>\n",
       "      <td>75740424.0</td>\n",
       "      <td>Female</td>\n",
       "      <td>13-Jan-70</td>\n",
       "      <td>ME</td>\n",
       "      <td>265-543-1264</td>\n",
       "      <td>Silver</td>\n",
       "      <td>33985796.0</td>\n",
       "      <td>Crime</td>\n",
       "      <td>10/03/2018</td>\n",
       "      <td>Home</td>\n",
       "      <td>Unknown</td>\n",
       "      <td>Material only</td>\n",
       "      <td>$2980</td>\n",
       "      <td>3.0</td>\n",
       "      <td>No</td>\n",
       "    </tr>\n",
       "  </tbody>\n",
       "</table>\n",
       "</div>"
      ],
      "text/plain": [
       "      CUST_ID  gender DateOfBirth State       Contact   Segment    claim_id  \\\n",
       "0  21868593.0  Female   12-Jan-79    VT  789-916-8172  Platinum  54004764.0   \n",
       "1  75740424.0  Female   13-Jan-70    ME  265-543-1264    Silver  33985796.0   \n",
       "\n",
       "  incident_cause  claim_date claim_area police_report     claim_type  \\\n",
       "0   Driver error  11/27/2017       Auto            No  Material only   \n",
       "1          Crime  10/03/2018       Home       Unknown  Material only   \n",
       "\n",
       "  claim_amount  total_policy_claims fraudulent  \n",
       "0        $2980                  1.0         No  \n",
       "1        $2980                  3.0         No  "
      ]
     },
     "execution_count": 13,
     "metadata": {},
     "output_type": "execute_result"
    }
   ],
   "source": [
    "claim_id_data.head(2)"
   ]
  },
  {
   "cell_type": "code",
   "execution_count": 362,
   "id": "5f40384a",
   "metadata": {},
   "outputs": [
    {
     "data": {
      "text/plain": [
       "CUST_ID                float64\n",
       "gender                  object\n",
       "DateOfBirth             object\n",
       "State                   object\n",
       "Contact                 object\n",
       "Segment                 object\n",
       "claim_id               float64\n",
       "incident_cause          object\n",
       "claim_date              object\n",
       "claim_area              object\n",
       "police_report           object\n",
       "claim_type              object\n",
       "claim_amount            object\n",
       "total_policy_claims    float64\n",
       "fraudulent              object\n",
       "dtype: object"
      ]
     },
     "execution_count": 362,
     "metadata": {},
     "output_type": "execute_result"
    }
   ],
   "source": [
    "claim_id_data.dtypes"
   ]
  },
  {
   "cell_type": "code",
   "execution_count": 8,
   "id": "71a7effa",
   "metadata": {},
   "outputs": [],
   "source": [
    "claim_id_data['DateOfBirth']=pd.to_datetime(claim_id_data.DateOfBirth,format='%d-%b-%y')\n",
    "claim_id_data['claim_date']=pd.to_datetime(claim_id_data.claim_date,format='%m/%d/%Y')\n",
    "claim_id_data['Contact']=pd.to_numeric(claim_id_data.Contact.str.replace('-',''))\n",
    "claim_id_data['claim_amount']=pd.to_numeric(claim_id_data.claim_amount.str.replace('$',''))"
   ]
  },
  {
   "cell_type": "code",
   "execution_count": 32,
   "id": "8219e544",
   "metadata": {},
   "outputs": [
    {
     "data": {
      "text/plain": [
       "0        2980.0\n",
       "1        2980.0\n",
       "2        3369.5\n",
       "3        1950.0\n",
       "4        1680.0\n",
       "         ...   \n",
       "1102     3059.0\n",
       "1103     1520.0\n",
       "1104    23575.0\n",
       "1105    25120.0\n",
       "1106    36685.0\n",
       "Name: claim_amount, Length: 1107, dtype: float64"
      ]
     },
     "execution_count": 32,
     "metadata": {},
     "output_type": "execute_result"
    }
   ],
   "source": [
    "claim_id_data['claim_amount']"
   ]
  },
  {
   "cell_type": "code",
   "execution_count": 17,
   "id": "5f77c89c",
   "metadata": {},
   "outputs": [
    {
     "data": {
      "text/plain": [
       "0       7.899168e+09\n",
       "1       2.655431e+09\n",
       "2       7.986315e+09\n",
       "3       7.986315e+09\n",
       "4       4.131878e+09\n",
       "            ...     \n",
       "1102             NaN\n",
       "1103             NaN\n",
       "1104             NaN\n",
       "1105             NaN\n",
       "1106             NaN\n",
       "Name: Contact, Length: 1107, dtype: float64"
      ]
     },
     "execution_count": 17,
     "metadata": {},
     "output_type": "execute_result"
    }
   ],
   "source": [
    "claim_id_data['Contact']"
   ]
  },
  {
   "cell_type": "code",
   "execution_count": 18,
   "id": "0ae83df1",
   "metadata": {},
   "outputs": [
    {
     "data": {
      "text/plain": [
       "0      1979-01-12\n",
       "1      1970-01-13\n",
       "2      1984-03-11\n",
       "3      1984-03-11\n",
       "4      1986-05-01\n",
       "          ...    \n",
       "1102          NaT\n",
       "1103          NaT\n",
       "1104          NaT\n",
       "1105          NaT\n",
       "1106          NaT\n",
       "Name: DateOfBirth, Length: 1107, dtype: datetime64[ns]"
      ]
     },
     "execution_count": 18,
     "metadata": {},
     "output_type": "execute_result"
    }
   ],
   "source": [
    "claim_id_data['DateOfBirth']"
   ]
  },
  {
   "cell_type": "code",
   "execution_count": 19,
   "id": "c9063b14",
   "metadata": {},
   "outputs": [
    {
     "data": {
      "text/plain": [
       "CUST_ID                       float64\n",
       "gender                         object\n",
       "DateOfBirth            datetime64[ns]\n",
       "State                          object\n",
       "Contact                       float64\n",
       "Segment                        object\n",
       "claim_id                      float64\n",
       "incident_cause                 object\n",
       "claim_date             datetime64[ns]\n",
       "claim_area                     object\n",
       "police_report                  object\n",
       "claim_type                     object\n",
       "claim_amount                  float64\n",
       "total_policy_claims           float64\n",
       "fraudulent                     object\n",
       "dtype: object"
      ]
     },
     "execution_count": 19,
     "metadata": {},
     "output_type": "execute_result"
    }
   ],
   "source": [
    "claim_id_data.dtypes"
   ]
  },
  {
   "cell_type": "markdown",
   "id": "d1cc9608",
   "metadata": {},
   "source": [
    "#### 3. Convert the column claim_amount to numeric. Use the appropriate modules/attributes to remove the $ sign."
   ]
  },
  {
   "cell_type": "code",
   "execution_count": null,
   "id": "222c4d83",
   "metadata": {},
   "outputs": [],
   "source": [
    "claim_id_data['claim_amount']=pd.to_numeric(claim_id_data.claim_amount.str.replace('$',''))"
   ]
  },
  {
   "cell_type": "code",
   "execution_count": 16,
   "id": "4275a22e",
   "metadata": {
    "scrolled": false
   },
   "outputs": [
    {
     "data": {
      "text/plain": [
       "0        2980.0\n",
       "1        2980.0\n",
       "2        3369.5\n",
       "3        1950.0\n",
       "4        1680.0\n",
       "         ...   \n",
       "1102     3059.0\n",
       "1103     1520.0\n",
       "1104    23575.0\n",
       "1105    25120.0\n",
       "1106    36685.0\n",
       "Name: claim_amount, Length: 1107, dtype: float64"
      ]
     },
     "execution_count": 16,
     "metadata": {},
     "output_type": "execute_result"
    }
   ],
   "source": [
    "claim_id_data['claim_amount']"
   ]
  },
  {
   "cell_type": "code",
   "execution_count": 367,
   "id": "1a91fea2",
   "metadata": {},
   "outputs": [
    {
     "data": {
      "text/html": [
       "<div>\n",
       "<style scoped>\n",
       "    .dataframe tbody tr th:only-of-type {\n",
       "        vertical-align: middle;\n",
       "    }\n",
       "\n",
       "    .dataframe tbody tr th {\n",
       "        vertical-align: top;\n",
       "    }\n",
       "\n",
       "    .dataframe thead th {\n",
       "        text-align: right;\n",
       "    }\n",
       "</style>\n",
       "<table border=\"1\" class=\"dataframe\">\n",
       "  <thead>\n",
       "    <tr style=\"text-align: right;\">\n",
       "      <th></th>\n",
       "      <th>CUST_ID</th>\n",
       "      <th>gender</th>\n",
       "      <th>DateOfBirth</th>\n",
       "      <th>State</th>\n",
       "      <th>Contact</th>\n",
       "      <th>Segment</th>\n",
       "      <th>claim_id</th>\n",
       "      <th>incident_cause</th>\n",
       "      <th>claim_date</th>\n",
       "      <th>claim_area</th>\n",
       "      <th>police_report</th>\n",
       "      <th>claim_type</th>\n",
       "      <th>claim_amount</th>\n",
       "      <th>total_policy_claims</th>\n",
       "      <th>fraudulent</th>\n",
       "    </tr>\n",
       "  </thead>\n",
       "  <tbody>\n",
       "    <tr>\n",
       "      <th>0</th>\n",
       "      <td>21868593.0</td>\n",
       "      <td>Female</td>\n",
       "      <td>1979-01-12</td>\n",
       "      <td>VT</td>\n",
       "      <td>7.899168e+09</td>\n",
       "      <td>Platinum</td>\n",
       "      <td>54004764.0</td>\n",
       "      <td>Driver error</td>\n",
       "      <td>2017-11-27</td>\n",
       "      <td>Auto</td>\n",
       "      <td>No</td>\n",
       "      <td>Material only</td>\n",
       "      <td>2980.0</td>\n",
       "      <td>1.0</td>\n",
       "      <td>No</td>\n",
       "    </tr>\n",
       "    <tr>\n",
       "      <th>1</th>\n",
       "      <td>75740424.0</td>\n",
       "      <td>Female</td>\n",
       "      <td>1970-01-13</td>\n",
       "      <td>ME</td>\n",
       "      <td>2.655431e+09</td>\n",
       "      <td>Silver</td>\n",
       "      <td>33985796.0</td>\n",
       "      <td>Crime</td>\n",
       "      <td>2018-10-03</td>\n",
       "      <td>Home</td>\n",
       "      <td>Unknown</td>\n",
       "      <td>Material only</td>\n",
       "      <td>2980.0</td>\n",
       "      <td>3.0</td>\n",
       "      <td>No</td>\n",
       "    </tr>\n",
       "    <tr>\n",
       "      <th>2</th>\n",
       "      <td>30308357.0</td>\n",
       "      <td>Female</td>\n",
       "      <td>1984-03-11</td>\n",
       "      <td>TN</td>\n",
       "      <td>7.986315e+09</td>\n",
       "      <td>Silver</td>\n",
       "      <td>53522022.0</td>\n",
       "      <td>Other driver error</td>\n",
       "      <td>2018-02-02</td>\n",
       "      <td>Auto</td>\n",
       "      <td>No</td>\n",
       "      <td>Material only</td>\n",
       "      <td>3369.5</td>\n",
       "      <td>1.0</td>\n",
       "      <td>Yes</td>\n",
       "    </tr>\n",
       "    <tr>\n",
       "      <th>3</th>\n",
       "      <td>30308357.0</td>\n",
       "      <td>Female</td>\n",
       "      <td>1984-03-11</td>\n",
       "      <td>TN</td>\n",
       "      <td>7.986315e+09</td>\n",
       "      <td>Silver</td>\n",
       "      <td>63017412.0</td>\n",
       "      <td>Driver error</td>\n",
       "      <td>2018-04-04</td>\n",
       "      <td>Auto</td>\n",
       "      <td>No</td>\n",
       "      <td>Material only</td>\n",
       "      <td>1950.0</td>\n",
       "      <td>6.0</td>\n",
       "      <td>No</td>\n",
       "    </tr>\n",
       "    <tr>\n",
       "      <th>4</th>\n",
       "      <td>47830476.0</td>\n",
       "      <td>Female</td>\n",
       "      <td>1986-05-01</td>\n",
       "      <td>MA</td>\n",
       "      <td>4.131878e+09</td>\n",
       "      <td>Silver</td>\n",
       "      <td>13015401.0</td>\n",
       "      <td>Natural causes</td>\n",
       "      <td>2018-06-17</td>\n",
       "      <td>Auto</td>\n",
       "      <td>No</td>\n",
       "      <td>Material only</td>\n",
       "      <td>1680.0</td>\n",
       "      <td>1.0</td>\n",
       "      <td>No</td>\n",
       "    </tr>\n",
       "    <tr>\n",
       "      <th>...</th>\n",
       "      <td>...</td>\n",
       "      <td>...</td>\n",
       "      <td>...</td>\n",
       "      <td>...</td>\n",
       "      <td>...</td>\n",
       "      <td>...</td>\n",
       "      <td>...</td>\n",
       "      <td>...</td>\n",
       "      <td>...</td>\n",
       "      <td>...</td>\n",
       "      <td>...</td>\n",
       "      <td>...</td>\n",
       "      <td>...</td>\n",
       "      <td>...</td>\n",
       "      <td>...</td>\n",
       "    </tr>\n",
       "    <tr>\n",
       "      <th>1102</th>\n",
       "      <td>NaN</td>\n",
       "      <td>NaN</td>\n",
       "      <td>NaT</td>\n",
       "      <td>NaN</td>\n",
       "      <td>NaN</td>\n",
       "      <td>NaN</td>\n",
       "      <td>97727122.0</td>\n",
       "      <td>Other driver error</td>\n",
       "      <td>2017-06-11</td>\n",
       "      <td>Auto</td>\n",
       "      <td>No</td>\n",
       "      <td>Material only</td>\n",
       "      <td>3059.0</td>\n",
       "      <td>4.0</td>\n",
       "      <td>Yes</td>\n",
       "    </tr>\n",
       "    <tr>\n",
       "      <th>1103</th>\n",
       "      <td>NaN</td>\n",
       "      <td>NaN</td>\n",
       "      <td>NaT</td>\n",
       "      <td>NaN</td>\n",
       "      <td>NaN</td>\n",
       "      <td>NaN</td>\n",
       "      <td>10247193.0</td>\n",
       "      <td>Natural causes</td>\n",
       "      <td>2018-03-14</td>\n",
       "      <td>Auto</td>\n",
       "      <td>No</td>\n",
       "      <td>Material only</td>\n",
       "      <td>1520.0</td>\n",
       "      <td>2.0</td>\n",
       "      <td>No</td>\n",
       "    </tr>\n",
       "    <tr>\n",
       "      <th>1104</th>\n",
       "      <td>NaN</td>\n",
       "      <td>NaN</td>\n",
       "      <td>NaT</td>\n",
       "      <td>NaN</td>\n",
       "      <td>NaN</td>\n",
       "      <td>NaN</td>\n",
       "      <td>79807493.0</td>\n",
       "      <td>Other driver error</td>\n",
       "      <td>2018-02-09</td>\n",
       "      <td>Auto</td>\n",
       "      <td>No</td>\n",
       "      <td>Material and injury</td>\n",
       "      <td>23575.0</td>\n",
       "      <td>2.0</td>\n",
       "      <td>Yes</td>\n",
       "    </tr>\n",
       "    <tr>\n",
       "      <th>1105</th>\n",
       "      <td>NaN</td>\n",
       "      <td>NaN</td>\n",
       "      <td>NaT</td>\n",
       "      <td>NaN</td>\n",
       "      <td>NaN</td>\n",
       "      <td>NaN</td>\n",
       "      <td>69299345.0</td>\n",
       "      <td>Other causes</td>\n",
       "      <td>2018-03-21</td>\n",
       "      <td>Auto</td>\n",
       "      <td>Unknown</td>\n",
       "      <td>Material and injury</td>\n",
       "      <td>25120.0</td>\n",
       "      <td>1.0</td>\n",
       "      <td>No</td>\n",
       "    </tr>\n",
       "    <tr>\n",
       "      <th>1106</th>\n",
       "      <td>NaN</td>\n",
       "      <td>NaN</td>\n",
       "      <td>NaT</td>\n",
       "      <td>NaN</td>\n",
       "      <td>NaN</td>\n",
       "      <td>NaN</td>\n",
       "      <td>58809728.0</td>\n",
       "      <td>Other driver error</td>\n",
       "      <td>2017-06-04</td>\n",
       "      <td>Auto</td>\n",
       "      <td>Yes</td>\n",
       "      <td>Material and injury</td>\n",
       "      <td>36685.0</td>\n",
       "      <td>3.0</td>\n",
       "      <td>Yes</td>\n",
       "    </tr>\n",
       "  </tbody>\n",
       "</table>\n",
       "<p>1107 rows × 15 columns</p>\n",
       "</div>"
      ],
      "text/plain": [
       "         CUST_ID  gender DateOfBirth State       Contact   Segment  \\\n",
       "0     21868593.0  Female  1979-01-12    VT  7.899168e+09  Platinum   \n",
       "1     75740424.0  Female  1970-01-13    ME  2.655431e+09    Silver   \n",
       "2     30308357.0  Female  1984-03-11    TN  7.986315e+09    Silver   \n",
       "3     30308357.0  Female  1984-03-11    TN  7.986315e+09    Silver   \n",
       "4     47830476.0  Female  1986-05-01    MA  4.131878e+09    Silver   \n",
       "...          ...     ...         ...   ...           ...       ...   \n",
       "1102         NaN     NaN         NaT   NaN           NaN       NaN   \n",
       "1103         NaN     NaN         NaT   NaN           NaN       NaN   \n",
       "1104         NaN     NaN         NaT   NaN           NaN       NaN   \n",
       "1105         NaN     NaN         NaT   NaN           NaN       NaN   \n",
       "1106         NaN     NaN         NaT   NaN           NaN       NaN   \n",
       "\n",
       "        claim_id      incident_cause claim_date claim_area police_report  \\\n",
       "0     54004764.0        Driver error 2017-11-27       Auto            No   \n",
       "1     33985796.0               Crime 2018-10-03       Home       Unknown   \n",
       "2     53522022.0  Other driver error 2018-02-02       Auto            No   \n",
       "3     63017412.0        Driver error 2018-04-04       Auto            No   \n",
       "4     13015401.0      Natural causes 2018-06-17       Auto            No   \n",
       "...          ...                 ...        ...        ...           ...   \n",
       "1102  97727122.0  Other driver error 2017-06-11       Auto            No   \n",
       "1103  10247193.0      Natural causes 2018-03-14       Auto            No   \n",
       "1104  79807493.0  Other driver error 2018-02-09       Auto            No   \n",
       "1105  69299345.0        Other causes 2018-03-21       Auto       Unknown   \n",
       "1106  58809728.0  Other driver error 2017-06-04       Auto           Yes   \n",
       "\n",
       "               claim_type  claim_amount  total_policy_claims fraudulent  \n",
       "0           Material only        2980.0                  1.0         No  \n",
       "1           Material only        2980.0                  3.0         No  \n",
       "2           Material only        3369.5                  1.0        Yes  \n",
       "3           Material only        1950.0                  6.0         No  \n",
       "4           Material only        1680.0                  1.0         No  \n",
       "...                   ...           ...                  ...        ...  \n",
       "1102        Material only        3059.0                  4.0        Yes  \n",
       "1103        Material only        1520.0                  2.0         No  \n",
       "1104  Material and injury       23575.0                  2.0        Yes  \n",
       "1105  Material and injury       25120.0                  1.0         No  \n",
       "1106  Material and injury       36685.0                  3.0        Yes  \n",
       "\n",
       "[1107 rows x 15 columns]"
      ]
     },
     "execution_count": 367,
     "metadata": {},
     "output_type": "execute_result"
    }
   ],
   "source": [
    "claim_id_data"
   ]
  },
  {
   "cell_type": "markdown",
   "id": "02f49102",
   "metadata": {},
   "source": [
    "#### 4. Of all the injury claims, some of them have gone unreported with the police. Create an alert flag (1,0) for all such claims."
   ]
  },
  {
   "cell_type": "code",
   "execution_count": 17,
   "id": "b6d132a8",
   "metadata": {},
   "outputs": [],
   "source": [
    "claim_id_data[\"flag\"] =np.where(claim_id_data.police_report=='Unknown',0,1)"
   ]
  },
  {
   "cell_type": "code",
   "execution_count": 18,
   "id": "51abfa79",
   "metadata": {},
   "outputs": [],
   "source": [
    "claim_id_data.drop(columns='police_report',inplace=True)"
   ]
  },
  {
   "cell_type": "code",
   "execution_count": 20,
   "id": "565ea2c5",
   "metadata": {},
   "outputs": [
    {
     "data": {
      "text/html": [
       "<div>\n",
       "<style scoped>\n",
       "    .dataframe tbody tr th:only-of-type {\n",
       "        vertical-align: middle;\n",
       "    }\n",
       "\n",
       "    .dataframe tbody tr th {\n",
       "        vertical-align: top;\n",
       "    }\n",
       "\n",
       "    .dataframe thead th {\n",
       "        text-align: right;\n",
       "    }\n",
       "</style>\n",
       "<table border=\"1\" class=\"dataframe\">\n",
       "  <thead>\n",
       "    <tr style=\"text-align: right;\">\n",
       "      <th></th>\n",
       "      <th>CUST_ID</th>\n",
       "      <th>gender</th>\n",
       "      <th>DateOfBirth</th>\n",
       "      <th>State</th>\n",
       "      <th>Contact</th>\n",
       "      <th>Segment</th>\n",
       "      <th>claim_id</th>\n",
       "      <th>incident_cause</th>\n",
       "      <th>claim_date</th>\n",
       "      <th>claim_area</th>\n",
       "      <th>claim_type</th>\n",
       "      <th>claim_amount</th>\n",
       "      <th>total_policy_claims</th>\n",
       "      <th>fraudulent</th>\n",
       "      <th>flag</th>\n",
       "    </tr>\n",
       "  </thead>\n",
       "  <tbody>\n",
       "    <tr>\n",
       "      <th>0</th>\n",
       "      <td>21868593.0</td>\n",
       "      <td>Female</td>\n",
       "      <td>1979-01-12</td>\n",
       "      <td>VT</td>\n",
       "      <td>7.899168e+09</td>\n",
       "      <td>Platinum</td>\n",
       "      <td>54004764.0</td>\n",
       "      <td>Driver error</td>\n",
       "      <td>2017-11-27</td>\n",
       "      <td>Auto</td>\n",
       "      <td>Material only</td>\n",
       "      <td>2980.0</td>\n",
       "      <td>1.0</td>\n",
       "      <td>No</td>\n",
       "      <td>1</td>\n",
       "    </tr>\n",
       "    <tr>\n",
       "      <th>1</th>\n",
       "      <td>75740424.0</td>\n",
       "      <td>Female</td>\n",
       "      <td>1970-01-13</td>\n",
       "      <td>ME</td>\n",
       "      <td>2.655431e+09</td>\n",
       "      <td>Silver</td>\n",
       "      <td>33985796.0</td>\n",
       "      <td>Crime</td>\n",
       "      <td>2018-10-03</td>\n",
       "      <td>Home</td>\n",
       "      <td>Material only</td>\n",
       "      <td>2980.0</td>\n",
       "      <td>3.0</td>\n",
       "      <td>No</td>\n",
       "      <td>0</td>\n",
       "    </tr>\n",
       "    <tr>\n",
       "      <th>2</th>\n",
       "      <td>30308357.0</td>\n",
       "      <td>Female</td>\n",
       "      <td>1984-03-11</td>\n",
       "      <td>TN</td>\n",
       "      <td>7.986315e+09</td>\n",
       "      <td>Silver</td>\n",
       "      <td>53522022.0</td>\n",
       "      <td>Other driver error</td>\n",
       "      <td>2018-02-02</td>\n",
       "      <td>Auto</td>\n",
       "      <td>Material only</td>\n",
       "      <td>3369.5</td>\n",
       "      <td>1.0</td>\n",
       "      <td>Yes</td>\n",
       "      <td>1</td>\n",
       "    </tr>\n",
       "    <tr>\n",
       "      <th>3</th>\n",
       "      <td>30308357.0</td>\n",
       "      <td>Female</td>\n",
       "      <td>1984-03-11</td>\n",
       "      <td>TN</td>\n",
       "      <td>7.986315e+09</td>\n",
       "      <td>Silver</td>\n",
       "      <td>63017412.0</td>\n",
       "      <td>Driver error</td>\n",
       "      <td>2018-04-04</td>\n",
       "      <td>Auto</td>\n",
       "      <td>Material only</td>\n",
       "      <td>1950.0</td>\n",
       "      <td>6.0</td>\n",
       "      <td>No</td>\n",
       "      <td>1</td>\n",
       "    </tr>\n",
       "    <tr>\n",
       "      <th>4</th>\n",
       "      <td>47830476.0</td>\n",
       "      <td>Female</td>\n",
       "      <td>1986-05-01</td>\n",
       "      <td>MA</td>\n",
       "      <td>4.131878e+09</td>\n",
       "      <td>Silver</td>\n",
       "      <td>13015401.0</td>\n",
       "      <td>Natural causes</td>\n",
       "      <td>2018-06-17</td>\n",
       "      <td>Auto</td>\n",
       "      <td>Material only</td>\n",
       "      <td>1680.0</td>\n",
       "      <td>1.0</td>\n",
       "      <td>No</td>\n",
       "      <td>1</td>\n",
       "    </tr>\n",
       "    <tr>\n",
       "      <th>...</th>\n",
       "      <td>...</td>\n",
       "      <td>...</td>\n",
       "      <td>...</td>\n",
       "      <td>...</td>\n",
       "      <td>...</td>\n",
       "      <td>...</td>\n",
       "      <td>...</td>\n",
       "      <td>...</td>\n",
       "      <td>...</td>\n",
       "      <td>...</td>\n",
       "      <td>...</td>\n",
       "      <td>...</td>\n",
       "      <td>...</td>\n",
       "      <td>...</td>\n",
       "      <td>...</td>\n",
       "    </tr>\n",
       "    <tr>\n",
       "      <th>1102</th>\n",
       "      <td>NaN</td>\n",
       "      <td>NaN</td>\n",
       "      <td>NaT</td>\n",
       "      <td>NaN</td>\n",
       "      <td>NaN</td>\n",
       "      <td>NaN</td>\n",
       "      <td>97727122.0</td>\n",
       "      <td>Other driver error</td>\n",
       "      <td>2017-06-11</td>\n",
       "      <td>Auto</td>\n",
       "      <td>Material only</td>\n",
       "      <td>3059.0</td>\n",
       "      <td>4.0</td>\n",
       "      <td>Yes</td>\n",
       "      <td>1</td>\n",
       "    </tr>\n",
       "    <tr>\n",
       "      <th>1103</th>\n",
       "      <td>NaN</td>\n",
       "      <td>NaN</td>\n",
       "      <td>NaT</td>\n",
       "      <td>NaN</td>\n",
       "      <td>NaN</td>\n",
       "      <td>NaN</td>\n",
       "      <td>10247193.0</td>\n",
       "      <td>Natural causes</td>\n",
       "      <td>2018-03-14</td>\n",
       "      <td>Auto</td>\n",
       "      <td>Material only</td>\n",
       "      <td>1520.0</td>\n",
       "      <td>2.0</td>\n",
       "      <td>No</td>\n",
       "      <td>1</td>\n",
       "    </tr>\n",
       "    <tr>\n",
       "      <th>1104</th>\n",
       "      <td>NaN</td>\n",
       "      <td>NaN</td>\n",
       "      <td>NaT</td>\n",
       "      <td>NaN</td>\n",
       "      <td>NaN</td>\n",
       "      <td>NaN</td>\n",
       "      <td>79807493.0</td>\n",
       "      <td>Other driver error</td>\n",
       "      <td>2018-02-09</td>\n",
       "      <td>Auto</td>\n",
       "      <td>Material and injury</td>\n",
       "      <td>23575.0</td>\n",
       "      <td>2.0</td>\n",
       "      <td>Yes</td>\n",
       "      <td>1</td>\n",
       "    </tr>\n",
       "    <tr>\n",
       "      <th>1105</th>\n",
       "      <td>NaN</td>\n",
       "      <td>NaN</td>\n",
       "      <td>NaT</td>\n",
       "      <td>NaN</td>\n",
       "      <td>NaN</td>\n",
       "      <td>NaN</td>\n",
       "      <td>69299345.0</td>\n",
       "      <td>Other causes</td>\n",
       "      <td>2018-03-21</td>\n",
       "      <td>Auto</td>\n",
       "      <td>Material and injury</td>\n",
       "      <td>25120.0</td>\n",
       "      <td>1.0</td>\n",
       "      <td>No</td>\n",
       "      <td>0</td>\n",
       "    </tr>\n",
       "    <tr>\n",
       "      <th>1106</th>\n",
       "      <td>NaN</td>\n",
       "      <td>NaN</td>\n",
       "      <td>NaT</td>\n",
       "      <td>NaN</td>\n",
       "      <td>NaN</td>\n",
       "      <td>NaN</td>\n",
       "      <td>58809728.0</td>\n",
       "      <td>Other driver error</td>\n",
       "      <td>2017-06-04</td>\n",
       "      <td>Auto</td>\n",
       "      <td>Material and injury</td>\n",
       "      <td>36685.0</td>\n",
       "      <td>3.0</td>\n",
       "      <td>Yes</td>\n",
       "      <td>1</td>\n",
       "    </tr>\n",
       "  </tbody>\n",
       "</table>\n",
       "<p>1107 rows × 15 columns</p>\n",
       "</div>"
      ],
      "text/plain": [
       "         CUST_ID  gender DateOfBirth State       Contact   Segment  \\\n",
       "0     21868593.0  Female  1979-01-12    VT  7.899168e+09  Platinum   \n",
       "1     75740424.0  Female  1970-01-13    ME  2.655431e+09    Silver   \n",
       "2     30308357.0  Female  1984-03-11    TN  7.986315e+09    Silver   \n",
       "3     30308357.0  Female  1984-03-11    TN  7.986315e+09    Silver   \n",
       "4     47830476.0  Female  1986-05-01    MA  4.131878e+09    Silver   \n",
       "...          ...     ...         ...   ...           ...       ...   \n",
       "1102         NaN     NaN         NaT   NaN           NaN       NaN   \n",
       "1103         NaN     NaN         NaT   NaN           NaN       NaN   \n",
       "1104         NaN     NaN         NaT   NaN           NaN       NaN   \n",
       "1105         NaN     NaN         NaT   NaN           NaN       NaN   \n",
       "1106         NaN     NaN         NaT   NaN           NaN       NaN   \n",
       "\n",
       "        claim_id      incident_cause claim_date claim_area  \\\n",
       "0     54004764.0        Driver error 2017-11-27       Auto   \n",
       "1     33985796.0               Crime 2018-10-03       Home   \n",
       "2     53522022.0  Other driver error 2018-02-02       Auto   \n",
       "3     63017412.0        Driver error 2018-04-04       Auto   \n",
       "4     13015401.0      Natural causes 2018-06-17       Auto   \n",
       "...          ...                 ...        ...        ...   \n",
       "1102  97727122.0  Other driver error 2017-06-11       Auto   \n",
       "1103  10247193.0      Natural causes 2018-03-14       Auto   \n",
       "1104  79807493.0  Other driver error 2018-02-09       Auto   \n",
       "1105  69299345.0        Other causes 2018-03-21       Auto   \n",
       "1106  58809728.0  Other driver error 2017-06-04       Auto   \n",
       "\n",
       "               claim_type  claim_amount  total_policy_claims fraudulent  flag  \n",
       "0           Material only        2980.0                  1.0         No     1  \n",
       "1           Material only        2980.0                  3.0         No     0  \n",
       "2           Material only        3369.5                  1.0        Yes     1  \n",
       "3           Material only        1950.0                  6.0         No     1  \n",
       "4           Material only        1680.0                  1.0         No     1  \n",
       "...                   ...           ...                  ...        ...   ...  \n",
       "1102        Material only        3059.0                  4.0        Yes     1  \n",
       "1103        Material only        1520.0                  2.0         No     1  \n",
       "1104  Material and injury       23575.0                  2.0        Yes     1  \n",
       "1105  Material and injury       25120.0                  1.0         No     0  \n",
       "1106  Material and injury       36685.0                  3.0        Yes     1  \n",
       "\n",
       "[1107 rows x 15 columns]"
      ]
     },
     "execution_count": 20,
     "metadata": {},
     "output_type": "execute_result"
    }
   ],
   "source": [
    "claim_id_data"
   ]
  },
  {
   "cell_type": "markdown",
   "id": "8f4d10a3",
   "metadata": {},
   "source": [
    "#### 5. One customer can claim for insurance more than once and in each claim, multiple categories of claims can be involved. However, customer ID should remain unique.\n",
    "#### Retain the most recent observation and delete any duplicated records in the data based on the customer ID column."
   ]
  },
  {
   "cell_type": "code",
   "execution_count": 21,
   "id": "7c8a939c",
   "metadata": {},
   "outputs": [],
   "source": [
    "claim=claim_id_data.groupby('CUST_ID').first().reset_index(drop=True)"
   ]
  },
  {
   "cell_type": "code",
   "execution_count": 373,
   "id": "5af5bdf7",
   "metadata": {},
   "outputs": [
    {
     "data": {
      "text/html": [
       "<div>\n",
       "<style scoped>\n",
       "    .dataframe tbody tr th:only-of-type {\n",
       "        vertical-align: middle;\n",
       "    }\n",
       "\n",
       "    .dataframe tbody tr th {\n",
       "        vertical-align: top;\n",
       "    }\n",
       "\n",
       "    .dataframe thead th {\n",
       "        text-align: right;\n",
       "    }\n",
       "</style>\n",
       "<table border=\"1\" class=\"dataframe\">\n",
       "  <thead>\n",
       "    <tr style=\"text-align: right;\">\n",
       "      <th></th>\n",
       "      <th>gender</th>\n",
       "      <th>DateOfBirth</th>\n",
       "      <th>State</th>\n",
       "      <th>Contact</th>\n",
       "      <th>Segment</th>\n",
       "      <th>claim_id</th>\n",
       "      <th>incident_cause</th>\n",
       "      <th>claim_date</th>\n",
       "      <th>claim_area</th>\n",
       "      <th>claim_type</th>\n",
       "      <th>claim_amount</th>\n",
       "      <th>total_policy_claims</th>\n",
       "      <th>fraudulent</th>\n",
       "      <th>flag</th>\n",
       "    </tr>\n",
       "  </thead>\n",
       "  <tbody>\n",
       "    <tr>\n",
       "      <th>0</th>\n",
       "      <td>Female</td>\n",
       "      <td>1978-05-23</td>\n",
       "      <td>DE</td>\n",
       "      <td>9.628791e+09</td>\n",
       "      <td>Platinum</td>\n",
       "      <td>69348631.0</td>\n",
       "      <td>Driver error</td>\n",
       "      <td>2018-04-10</td>\n",
       "      <td>Auto</td>\n",
       "      <td>Injury only</td>\n",
       "      <td>NaN</td>\n",
       "      <td>1.0</td>\n",
       "      <td>Yes</td>\n",
       "      <td>1</td>\n",
       "    </tr>\n",
       "    <tr>\n",
       "      <th>1</th>\n",
       "      <td>Male</td>\n",
       "      <td>1972-12-20</td>\n",
       "      <td>TX</td>\n",
       "      <td>1.738926e+09</td>\n",
       "      <td>Silver</td>\n",
       "      <td>40953049.0</td>\n",
       "      <td>Other causes</td>\n",
       "      <td>2018-04-04</td>\n",
       "      <td>Auto</td>\n",
       "      <td>Material and injury</td>\n",
       "      <td>39192.0</td>\n",
       "      <td>1.0</td>\n",
       "      <td>Yes</td>\n",
       "      <td>1</td>\n",
       "    </tr>\n",
       "  </tbody>\n",
       "</table>\n",
       "</div>"
      ],
      "text/plain": [
       "   gender DateOfBirth State       Contact   Segment    claim_id  \\\n",
       "0  Female  1978-05-23    DE  9.628791e+09  Platinum  69348631.0   \n",
       "1    Male  1972-12-20    TX  1.738926e+09    Silver  40953049.0   \n",
       "\n",
       "  incident_cause claim_date claim_area           claim_type  claim_amount  \\\n",
       "0   Driver error 2018-04-10       Auto          Injury only           NaN   \n",
       "1   Other causes 2018-04-04       Auto  Material and injury       39192.0   \n",
       "\n",
       "   total_policy_claims fraudulent  flag  \n",
       "0                  1.0        Yes     1  \n",
       "1                  1.0        Yes     1  "
      ]
     },
     "execution_count": 373,
     "metadata": {},
     "output_type": "execute_result"
    }
   ],
   "source": [
    "claim.head(2)"
   ]
  },
  {
   "cell_type": "markdown",
   "id": "523c6bad",
   "metadata": {},
   "source": [
    "#### 6. Check for missing values and impute the missing values with an appropriate value. (mean for continuous and mode for categorical)"
   ]
  },
  {
   "cell_type": "code",
   "execution_count": 22,
   "id": "9fb156c5",
   "metadata": {},
   "outputs": [
    {
     "data": {
      "text/plain": [
       "gender                  0\n",
       "DateOfBirth             0\n",
       "State                   0\n",
       "Contact                 0\n",
       "Segment                 0\n",
       "claim_id                7\n",
       "incident_cause          7\n",
       "claim_date              7\n",
       "claim_area              7\n",
       "claim_type              7\n",
       "claim_amount           72\n",
       "total_policy_claims    17\n",
       "fraudulent              7\n",
       "flag                    0\n",
       "dtype: int64"
      ]
     },
     "execution_count": 22,
     "metadata": {},
     "output_type": "execute_result"
    }
   ],
   "source": [
    "claim.isna().sum()"
   ]
  },
  {
   "cell_type": "code",
   "execution_count": 375,
   "id": "a69f0ae2",
   "metadata": {},
   "outputs": [
    {
     "name": "stdout",
     "output_type": "stream",
     "text": [
      "<class 'pandas.core.frame.DataFrame'>\n",
      "RangeIndex: 1085 entries, 0 to 1084\n",
      "Data columns (total 14 columns):\n",
      " #   Column               Non-Null Count  Dtype         \n",
      "---  ------               --------------  -----         \n",
      " 0   gender               1085 non-null   object        \n",
      " 1   DateOfBirth          1085 non-null   datetime64[ns]\n",
      " 2   State                1085 non-null   object        \n",
      " 3   Contact              1085 non-null   float64       \n",
      " 4   Segment              1085 non-null   object        \n",
      " 5   claim_id             1078 non-null   float64       \n",
      " 6   incident_cause       1078 non-null   object        \n",
      " 7   claim_date           1078 non-null   datetime64[ns]\n",
      " 8   claim_area           1078 non-null   object        \n",
      " 9   claim_type           1078 non-null   object        \n",
      " 10  claim_amount         1013 non-null   float64       \n",
      " 11  total_policy_claims  1068 non-null   float64       \n",
      " 12  fraudulent           1078 non-null   object        \n",
      " 13  flag                 1085 non-null   int64         \n",
      "dtypes: datetime64[ns](2), float64(4), int64(1), object(7)\n",
      "memory usage: 118.8+ KB\n"
     ]
    }
   ],
   "source": [
    "claim.info()"
   ]
  },
  {
   "cell_type": "code",
   "execution_count": 23,
   "id": "3f9928e4",
   "metadata": {},
   "outputs": [],
   "source": [
    "categ=['gender','State','Segment','incident_cause','claim_area','claim_type','fraudulent','flag']\n",
    "conti=['claim_amount']"
   ]
  },
  {
   "cell_type": "code",
   "execution_count": 24,
   "id": "66f96dc0",
   "metadata": {},
   "outputs": [
    {
     "data": {
      "text/html": [
       "<div>\n",
       "<style scoped>\n",
       "    .dataframe tbody tr th:only-of-type {\n",
       "        vertical-align: middle;\n",
       "    }\n",
       "\n",
       "    .dataframe tbody tr th {\n",
       "        vertical-align: top;\n",
       "    }\n",
       "\n",
       "    .dataframe thead th {\n",
       "        text-align: right;\n",
       "    }\n",
       "</style>\n",
       "<table border=\"1\" class=\"dataframe\">\n",
       "  <thead>\n",
       "    <tr style=\"text-align: right;\">\n",
       "      <th></th>\n",
       "      <th>gender</th>\n",
       "      <th>DateOfBirth</th>\n",
       "      <th>State</th>\n",
       "      <th>Contact</th>\n",
       "      <th>Segment</th>\n",
       "      <th>claim_id</th>\n",
       "      <th>incident_cause</th>\n",
       "      <th>claim_date</th>\n",
       "      <th>claim_area</th>\n",
       "      <th>claim_type</th>\n",
       "      <th>claim_amount</th>\n",
       "      <th>total_policy_claims</th>\n",
       "      <th>fraudulent</th>\n",
       "      <th>flag</th>\n",
       "    </tr>\n",
       "  </thead>\n",
       "  <tbody>\n",
       "    <tr>\n",
       "      <th>0</th>\n",
       "      <td>Female</td>\n",
       "      <td>1978-05-23</td>\n",
       "      <td>DE</td>\n",
       "      <td>9.628791e+09</td>\n",
       "      <td>Platinum</td>\n",
       "      <td>69348631.0</td>\n",
       "      <td>Driver error</td>\n",
       "      <td>2018-04-10</td>\n",
       "      <td>Auto</td>\n",
       "      <td>Injury only</td>\n",
       "      <td>12470.498519</td>\n",
       "      <td>1.0</td>\n",
       "      <td>Yes</td>\n",
       "      <td>1</td>\n",
       "    </tr>\n",
       "    <tr>\n",
       "      <th>1</th>\n",
       "      <td>Male</td>\n",
       "      <td>1972-12-20</td>\n",
       "      <td>TX</td>\n",
       "      <td>1.738926e+09</td>\n",
       "      <td>Silver</td>\n",
       "      <td>40953049.0</td>\n",
       "      <td>Other causes</td>\n",
       "      <td>2018-04-04</td>\n",
       "      <td>Auto</td>\n",
       "      <td>Material and injury</td>\n",
       "      <td>39192.000000</td>\n",
       "      <td>1.0</td>\n",
       "      <td>Yes</td>\n",
       "      <td>1</td>\n",
       "    </tr>\n",
       "    <tr>\n",
       "      <th>2</th>\n",
       "      <td>Male</td>\n",
       "      <td>1988-07-28</td>\n",
       "      <td>FL</td>\n",
       "      <td>3.645982e+09</td>\n",
       "      <td>Silver</td>\n",
       "      <td>45780237.0</td>\n",
       "      <td>Natural causes</td>\n",
       "      <td>2017-10-17</td>\n",
       "      <td>Auto</td>\n",
       "      <td>Material only</td>\n",
       "      <td>1621.500000</td>\n",
       "      <td>2.0</td>\n",
       "      <td>Yes</td>\n",
       "      <td>0</td>\n",
       "    </tr>\n",
       "    <tr>\n",
       "      <th>3</th>\n",
       "      <td>Male</td>\n",
       "      <td>1971-08-19</td>\n",
       "      <td>CA</td>\n",
       "      <td>1.873488e+09</td>\n",
       "      <td>Gold</td>\n",
       "      <td>89833962.0</td>\n",
       "      <td>Other causes</td>\n",
       "      <td>2018-03-21</td>\n",
       "      <td>Auto</td>\n",
       "      <td>Material and injury</td>\n",
       "      <td>37040.000000</td>\n",
       "      <td>1.0</td>\n",
       "      <td>No</td>\n",
       "      <td>1</td>\n",
       "    </tr>\n",
       "    <tr>\n",
       "      <th>4</th>\n",
       "      <td>Female</td>\n",
       "      <td>1980-08-10</td>\n",
       "      <td>NC</td>\n",
       "      <td>7.988625e+09</td>\n",
       "      <td>Gold</td>\n",
       "      <td>35782742.0</td>\n",
       "      <td>Other driver error</td>\n",
       "      <td>2018-07-27</td>\n",
       "      <td>Auto</td>\n",
       "      <td>Injury only</td>\n",
       "      <td>35250.000000</td>\n",
       "      <td>3.0</td>\n",
       "      <td>No</td>\n",
       "      <td>1</td>\n",
       "    </tr>\n",
       "    <tr>\n",
       "      <th>...</th>\n",
       "      <td>...</td>\n",
       "      <td>...</td>\n",
       "      <td>...</td>\n",
       "      <td>...</td>\n",
       "      <td>...</td>\n",
       "      <td>...</td>\n",
       "      <td>...</td>\n",
       "      <td>...</td>\n",
       "      <td>...</td>\n",
       "      <td>...</td>\n",
       "      <td>...</td>\n",
       "      <td>...</td>\n",
       "      <td>...</td>\n",
       "      <td>...</td>\n",
       "    </tr>\n",
       "    <tr>\n",
       "      <th>1080</th>\n",
       "      <td>Male</td>\n",
       "      <td>2065-01-28</td>\n",
       "      <td>UT</td>\n",
       "      <td>5.175625e+09</td>\n",
       "      <td>Silver</td>\n",
       "      <td>4549014.0</td>\n",
       "      <td>Other causes</td>\n",
       "      <td>2018-07-07</td>\n",
       "      <td>Auto</td>\n",
       "      <td>Injury only</td>\n",
       "      <td>21480.000000</td>\n",
       "      <td>1.0</td>\n",
       "      <td>No</td>\n",
       "      <td>1</td>\n",
       "    </tr>\n",
       "    <tr>\n",
       "      <th>1081</th>\n",
       "      <td>Female</td>\n",
       "      <td>2066-06-19</td>\n",
       "      <td>HI</td>\n",
       "      <td>4.577521e+09</td>\n",
       "      <td>Gold</td>\n",
       "      <td>35453672.0</td>\n",
       "      <td>Natural causes</td>\n",
       "      <td>2018-01-06</td>\n",
       "      <td>Auto</td>\n",
       "      <td>Material and injury</td>\n",
       "      <td>14360.000000</td>\n",
       "      <td>1.0</td>\n",
       "      <td>No</td>\n",
       "      <td>1</td>\n",
       "    </tr>\n",
       "    <tr>\n",
       "      <th>1082</th>\n",
       "      <td>Female</td>\n",
       "      <td>2063-11-18</td>\n",
       "      <td>NC</td>\n",
       "      <td>6.432465e+09</td>\n",
       "      <td>Silver</td>\n",
       "      <td>37305754.0</td>\n",
       "      <td>Natural causes</td>\n",
       "      <td>2018-04-04</td>\n",
       "      <td>Auto</td>\n",
       "      <td>Material only</td>\n",
       "      <td>1242.000000</td>\n",
       "      <td>1.0</td>\n",
       "      <td>Yes</td>\n",
       "      <td>1</td>\n",
       "    </tr>\n",
       "    <tr>\n",
       "      <th>1083</th>\n",
       "      <td>Male</td>\n",
       "      <td>1995-06-08</td>\n",
       "      <td>OR</td>\n",
       "      <td>3.952466e+09</td>\n",
       "      <td>Gold</td>\n",
       "      <td>22960702.0</td>\n",
       "      <td>Driver error</td>\n",
       "      <td>2017-11-13</td>\n",
       "      <td>Auto</td>\n",
       "      <td>Material only</td>\n",
       "      <td>2415.000000</td>\n",
       "      <td>2.0</td>\n",
       "      <td>Yes</td>\n",
       "      <td>1</td>\n",
       "    </tr>\n",
       "    <tr>\n",
       "      <th>1084</th>\n",
       "      <td>Male</td>\n",
       "      <td>1995-06-10</td>\n",
       "      <td>AL</td>\n",
       "      <td>2.349433e+09</td>\n",
       "      <td>Platinum</td>\n",
       "      <td>47262068.0</td>\n",
       "      <td>Driver error</td>\n",
       "      <td>2018-10-23</td>\n",
       "      <td>Home</td>\n",
       "      <td>Material only</td>\n",
       "      <td>2310.000000</td>\n",
       "      <td>1.0</td>\n",
       "      <td>No</td>\n",
       "      <td>1</td>\n",
       "    </tr>\n",
       "  </tbody>\n",
       "</table>\n",
       "<p>1085 rows × 14 columns</p>\n",
       "</div>"
      ],
      "text/plain": [
       "      gender DateOfBirth State       Contact   Segment    claim_id  \\\n",
       "0     Female  1978-05-23    DE  9.628791e+09  Platinum  69348631.0   \n",
       "1       Male  1972-12-20    TX  1.738926e+09    Silver  40953049.0   \n",
       "2       Male  1988-07-28    FL  3.645982e+09    Silver  45780237.0   \n",
       "3       Male  1971-08-19    CA  1.873488e+09      Gold  89833962.0   \n",
       "4     Female  1980-08-10    NC  7.988625e+09      Gold  35782742.0   \n",
       "...      ...         ...   ...           ...       ...         ...   \n",
       "1080    Male  2065-01-28    UT  5.175625e+09    Silver   4549014.0   \n",
       "1081  Female  2066-06-19    HI  4.577521e+09      Gold  35453672.0   \n",
       "1082  Female  2063-11-18    NC  6.432465e+09    Silver  37305754.0   \n",
       "1083    Male  1995-06-08    OR  3.952466e+09      Gold  22960702.0   \n",
       "1084    Male  1995-06-10    AL  2.349433e+09  Platinum  47262068.0   \n",
       "\n",
       "          incident_cause claim_date claim_area           claim_type  \\\n",
       "0           Driver error 2018-04-10       Auto          Injury only   \n",
       "1           Other causes 2018-04-04       Auto  Material and injury   \n",
       "2         Natural causes 2017-10-17       Auto        Material only   \n",
       "3           Other causes 2018-03-21       Auto  Material and injury   \n",
       "4     Other driver error 2018-07-27       Auto          Injury only   \n",
       "...                  ...        ...        ...                  ...   \n",
       "1080        Other causes 2018-07-07       Auto          Injury only   \n",
       "1081      Natural causes 2018-01-06       Auto  Material and injury   \n",
       "1082      Natural causes 2018-04-04       Auto        Material only   \n",
       "1083        Driver error 2017-11-13       Auto        Material only   \n",
       "1084        Driver error 2018-10-23       Home        Material only   \n",
       "\n",
       "      claim_amount  total_policy_claims fraudulent  flag  \n",
       "0     12470.498519                  1.0        Yes     1  \n",
       "1     39192.000000                  1.0        Yes     1  \n",
       "2      1621.500000                  2.0        Yes     0  \n",
       "3     37040.000000                  1.0         No     1  \n",
       "4     35250.000000                  3.0         No     1  \n",
       "...            ...                  ...        ...   ...  \n",
       "1080  21480.000000                  1.0         No     1  \n",
       "1081  14360.000000                  1.0         No     1  \n",
       "1082   1242.000000                  1.0        Yes     1  \n",
       "1083   2415.000000                  2.0        Yes     1  \n",
       "1084   2310.000000                  1.0         No     1  \n",
       "\n",
       "[1085 rows x 14 columns]"
      ]
     },
     "execution_count": 24,
     "metadata": {},
     "output_type": "execute_result"
    }
   ],
   "source": [
    "for col in categ:\n",
    "    claim[col] = claim[col].fillna(claim[col].mode())\n",
    "claim[conti] = claim[conti].fillna(claim[conti].mean())\n",
    "claim"
   ]
  },
  {
   "cell_type": "markdown",
   "id": "d23d7d7a",
   "metadata": {},
   "source": [
    "#### 7. Calculate the age of customers in years. Based on the age, categorize the customers according to the below criteria\n",
    "#### Children Youth Adult Senior\n",
    "####  < 18 18-30 30-60 > 60"
   ]
  },
  {
   "cell_type": "code",
   "execution_count": 25,
   "id": "6cd85fb2",
   "metadata": {},
   "outputs": [],
   "source": [
    "curr_year = pd.to_datetime('today').year\n",
    "dob_year = pd.DatetimeIndex(claim['DateOfBirth']).year          \n",
    "x = dob_year-100                                              \n",
    "v = curr_year - x\n",
    "y = curr_year - dob_year\n",
    "claim['Age'] = (np.where(dob_year > curr_year,v,y))\n",
    "\n",
    "claim.loc[(claim.Age < 18),'AgeGroup'] = 'Children'\n",
    "claim.loc[(claim.Age >=18) & (claim.Age <30),'AgeGroup'] = 'Youth'\n",
    "claim.loc[(claim.Age >=30) & (claim.Age <60),'AgeGroup'] = 'Adult'\n",
    "claim.loc[(claim.Age >=60),'AgeGroup'] = 'Senior'"
   ]
  },
  {
   "cell_type": "code",
   "execution_count": 26,
   "id": "730ad2d3",
   "metadata": {},
   "outputs": [
    {
     "data": {
      "text/html": [
       "<div>\n",
       "<style scoped>\n",
       "    .dataframe tbody tr th:only-of-type {\n",
       "        vertical-align: middle;\n",
       "    }\n",
       "\n",
       "    .dataframe tbody tr th {\n",
       "        vertical-align: top;\n",
       "    }\n",
       "\n",
       "    .dataframe thead th {\n",
       "        text-align: right;\n",
       "    }\n",
       "</style>\n",
       "<table border=\"1\" class=\"dataframe\">\n",
       "  <thead>\n",
       "    <tr style=\"text-align: right;\">\n",
       "      <th></th>\n",
       "      <th>Age</th>\n",
       "    </tr>\n",
       "    <tr>\n",
       "      <th>AgeGroup</th>\n",
       "      <th></th>\n",
       "    </tr>\n",
       "  </thead>\n",
       "  <tbody>\n",
       "    <tr>\n",
       "      <th>Adult</th>\n",
       "      <td>799</td>\n",
       "    </tr>\n",
       "    <tr>\n",
       "      <th>Senior</th>\n",
       "      <td>76</td>\n",
       "    </tr>\n",
       "    <tr>\n",
       "      <th>Youth</th>\n",
       "      <td>210</td>\n",
       "    </tr>\n",
       "  </tbody>\n",
       "</table>\n",
       "</div>"
      ],
      "text/plain": [
       "          Age\n",
       "AgeGroup     \n",
       "Adult     799\n",
       "Senior     76\n",
       "Youth     210"
      ]
     },
     "execution_count": 26,
     "metadata": {},
     "output_type": "execute_result"
    }
   ],
   "source": [
    "claim.groupby('AgeGroup')[['Age']].count()"
   ]
  },
  {
   "cell_type": "markdown",
   "id": "ec8c9687",
   "metadata": {},
   "source": [
    "#### 8. What is the average amount claimed by the customers from various segments?"
   ]
  },
  {
   "cell_type": "code",
   "execution_count": 27,
   "id": "453f3a8c",
   "metadata": {
    "scrolled": false
   },
   "outputs": [
    {
     "data": {
      "text/html": [
       "<div>\n",
       "<style scoped>\n",
       "    .dataframe tbody tr th:only-of-type {\n",
       "        vertical-align: middle;\n",
       "    }\n",
       "\n",
       "    .dataframe tbody tr th {\n",
       "        vertical-align: top;\n",
       "    }\n",
       "\n",
       "    .dataframe thead th {\n",
       "        text-align: right;\n",
       "    }\n",
       "</style>\n",
       "<table border=\"1\" class=\"dataframe\">\n",
       "  <thead>\n",
       "    <tr style=\"text-align: right;\">\n",
       "      <th></th>\n",
       "      <th>claim_amount</th>\n",
       "    </tr>\n",
       "    <tr>\n",
       "      <th>Segment</th>\n",
       "      <th></th>\n",
       "    </tr>\n",
       "  </thead>\n",
       "  <tbody>\n",
       "    <tr>\n",
       "      <th>Gold</th>\n",
       "      <td>12755.710930</td>\n",
       "    </tr>\n",
       "    <tr>\n",
       "      <th>Platinum</th>\n",
       "      <td>12370.138663</td>\n",
       "    </tr>\n",
       "    <tr>\n",
       "      <th>Silver</th>\n",
       "      <td>12271.163192</td>\n",
       "    </tr>\n",
       "  </tbody>\n",
       "</table>\n",
       "</div>"
      ],
      "text/plain": [
       "          claim_amount\n",
       "Segment               \n",
       "Gold      12755.710930\n",
       "Platinum  12370.138663\n",
       "Silver    12271.163192"
      ]
     },
     "execution_count": 27,
     "metadata": {},
     "output_type": "execute_result"
    }
   ],
   "source": [
    "claim.groupby('Segment')[['claim_amount']].mean()"
   ]
  },
  {
   "cell_type": "markdown",
   "id": "411e429f",
   "metadata": {},
   "source": [
    "#### 9. What is the total claim amount based on incident cause for all the claims that have been done at least 20 days prior to 1st of October, 2018."
   ]
  },
  {
   "cell_type": "code",
   "execution_count": 28,
   "id": "15034a93",
   "metadata": {},
   "outputs": [
    {
     "data": {
      "text/plain": [
       "incident_cause\n",
       "Total Crime                 7.244625e+05\n",
       "Total Driver error          3.264286e+06\n",
       "Total Natural causes        1.312706e+06\n",
       "Total Other causes          3.725038e+06\n",
       "Total Other driver error    3.318806e+06\n",
       "Name: claim_amount, dtype: float64"
      ]
     },
     "execution_count": 28,
     "metadata": {},
     "output_type": "execute_result"
    }
   ],
   "source": [
    "claim.loc[claim.claim_date<'2018-9-11',:].groupby('incident_cause')['claim_amount'].sum().add_prefix('Total ')"
   ]
  },
  {
   "cell_type": "markdown",
   "id": "d13dc5e7",
   "metadata": {},
   "source": [
    "#### 10. How many adults from TX, DE and AK claimed insurance for driver related issues and causes?"
   ]
  },
  {
   "cell_type": "code",
   "execution_count": 29,
   "id": "e5442e13",
   "metadata": {},
   "outputs": [
    {
     "data": {
      "text/plain": [
       "State\n",
       "AK    19\n",
       "DE    29\n",
       "TX     6\n",
       "Name: State, dtype: int64"
      ]
     },
     "execution_count": 29,
     "metadata": {},
     "output_type": "execute_result"
    }
   ],
   "source": [
    "claim.loc[(claim.incident_cause=='Driver error')&(claim.State=='TX')|(claim.State=='DE')|(claim.State=='AK')].groupby('State')['State'].count()"
   ]
  },
  {
   "cell_type": "markdown",
   "id": "e484a515",
   "metadata": {},
   "source": [
    "#### 11. Draw a pie chart between the aggregated value of claim amount based on gender and segment. Represent the claim amount as a percentage on the pie chart."
   ]
  },
  {
   "cell_type": "code",
   "execution_count": 30,
   "id": "d65d1279",
   "metadata": {},
   "outputs": [
    {
     "data": {
      "text/plain": [
       "array([<AxesSubplot:ylabel='Gold'>, <AxesSubplot:ylabel='Platinum'>,\n",
       "       <AxesSubplot:ylabel='Silver'>], dtype=object)"
      ]
     },
     "execution_count": 30,
     "metadata": {},
     "output_type": "execute_result"
    },
    {
     "data": {
      "image/png": "[encoded data removed]",
      "text/plain": [
       "<Figure size 1152x576 with 3 Axes>"
      ]
     },
     "metadata": {},
     "output_type": "display_data"
    }
   ],
   "source": [
    "total_per=claim.pivot_table(index='gender',values='claim_amount',columns='Segment')\n",
    "total_per.plot(kind='pie',subplots=True,figsize=(16,8),autopct='%.0f%%')\n",
    "\n"
   ]
  },
  {
   "cell_type": "markdown",
   "id": "9d559e1d",
   "metadata": {},
   "source": [
    "#### 12. Among males and females, which gender had claimed the most for any type of driver related issues? E.g. This metric can be compared using a bar chart"
   ]
  },
  {
   "cell_type": "code",
   "execution_count": 224,
   "id": "c1804287",
   "metadata": {},
   "outputs": [
    {
     "data": {
      "text/html": [
       "<div>\n",
       "<style scoped>\n",
       "    .dataframe tbody tr th:only-of-type {\n",
       "        vertical-align: middle;\n",
       "    }\n",
       "\n",
       "    .dataframe tbody tr th {\n",
       "        vertical-align: top;\n",
       "    }\n",
       "\n",
       "    .dataframe thead th {\n",
       "        text-align: right;\n",
       "    }\n",
       "</style>\n",
       "<table border=\"1\" class=\"dataframe\">\n",
       "  <thead>\n",
       "    <tr style=\"text-align: right;\">\n",
       "      <th></th>\n",
       "      <th>gender</th>\n",
       "      <th>DateOfBirth</th>\n",
       "      <th>State</th>\n",
       "      <th>Contact</th>\n",
       "      <th>Segment</th>\n",
       "      <th>claim_id</th>\n",
       "      <th>incident_cause</th>\n",
       "      <th>claim_date</th>\n",
       "      <th>claim_area</th>\n",
       "      <th>claim_type</th>\n",
       "      <th>claim_amount</th>\n",
       "      <th>total_policy_claims</th>\n",
       "      <th>fraudulent</th>\n",
       "      <th>flag</th>\n",
       "    </tr>\n",
       "  </thead>\n",
       "  <tbody>\n",
       "    <tr>\n",
       "      <th>0</th>\n",
       "      <td>Female</td>\n",
       "      <td>1978-05-23</td>\n",
       "      <td>DE</td>\n",
       "      <td>9.628791e+09</td>\n",
       "      <td>Platinum</td>\n",
       "      <td>69348631.0</td>\n",
       "      <td>Driver error</td>\n",
       "      <td>2018-04-10</td>\n",
       "      <td>Auto</td>\n",
       "      <td>Injury only</td>\n",
       "      <td>12470.498519</td>\n",
       "      <td>1.0</td>\n",
       "      <td>Yes</td>\n",
       "      <td>0.0</td>\n",
       "    </tr>\n",
       "    <tr>\n",
       "      <th>1</th>\n",
       "      <td>Male</td>\n",
       "      <td>1972-12-20</td>\n",
       "      <td>TX</td>\n",
       "      <td>1.738926e+09</td>\n",
       "      <td>Silver</td>\n",
       "      <td>40953049.0</td>\n",
       "      <td>Other causes</td>\n",
       "      <td>2018-04-04</td>\n",
       "      <td>Auto</td>\n",
       "      <td>Material and injury</td>\n",
       "      <td>39192.000000</td>\n",
       "      <td>1.0</td>\n",
       "      <td>Yes</td>\n",
       "      <td>0.0</td>\n",
       "    </tr>\n",
       "  </tbody>\n",
       "</table>\n",
       "</div>"
      ],
      "text/plain": [
       "   gender DateOfBirth State       Contact   Segment    claim_id  \\\n",
       "0  Female  1978-05-23    DE  9.628791e+09  Platinum  69348631.0   \n",
       "1    Male  1972-12-20    TX  1.738926e+09    Silver  40953049.0   \n",
       "\n",
       "  incident_cause claim_date claim_area           claim_type  claim_amount  \\\n",
       "0   Driver error 2018-04-10       Auto          Injury only  12470.498519   \n",
       "1   Other causes 2018-04-04       Auto  Material and injury  39192.000000   \n",
       "\n",
       "   total_policy_claims fraudulent  flag  \n",
       "0                  1.0        Yes   0.0  \n",
       "1                  1.0        Yes   0.0  "
      ]
     },
     "execution_count": 224,
     "metadata": {},
     "output_type": "execute_result"
    }
   ],
   "source": [
    "claim.head(2)"
   ]
  },
  {
   "cell_type": "code",
   "execution_count": 31,
   "id": "3dc7361f",
   "metadata": {},
   "outputs": [],
   "source": [
    "gen_count=claim.loc[(claim.incident_cause=='Driver error')|(claim.incident_cause=='Other driver error'),:].groupby('gender')[['gender']].count().add_prefix('total_count_of_')"
   ]
  },
  {
   "cell_type": "code",
   "execution_count": 32,
   "id": "1952a841",
   "metadata": {},
   "outputs": [
    {
     "data": {
      "image/png": "[encoded data removed]",
      "text/plain": [
       "<Figure size 720x432 with 1 Axes>"
      ]
     },
     "metadata": {
      "needs_background": "light"
     },
     "output_type": "display_data"
    }
   ],
   "source": [
    "gen_count.plot(kind='bar',figsize=(10,6),width=0.4,)\n",
    "plt_title=('Total_count')"
   ]
  },
  {
   "cell_type": "markdown",
   "id": "785e2bd4",
   "metadata": {},
   "source": [
    "#### 13. Which age group had the maximum fraudulent policy claims? Visualize it on a bar chart."
   ]
  },
  {
   "cell_type": "code",
   "execution_count": 33,
   "id": "4ca73fdb",
   "metadata": {},
   "outputs": [],
   "source": [
    "claim['Max']=np.where(claim.fraudulent == 'Yes',0,1)"
   ]
  },
  {
   "cell_type": "code",
   "execution_count": 34,
   "id": "d11430fe",
   "metadata": {},
   "outputs": [],
   "source": [
    "New_data=claim.groupby('AgeGroup')[['Max']].count()"
   ]
  },
  {
   "cell_type": "code",
   "execution_count": 35,
   "id": "3942d492",
   "metadata": {
    "scrolled": true
   },
   "outputs": [
    {
     "data": {
      "text/html": [
       "<div>\n",
       "<style scoped>\n",
       "    .dataframe tbody tr th:only-of-type {\n",
       "        vertical-align: middle;\n",
       "    }\n",
       "\n",
       "    .dataframe tbody tr th {\n",
       "        vertical-align: top;\n",
       "    }\n",
       "\n",
       "    .dataframe thead th {\n",
       "        text-align: right;\n",
       "    }\n",
       "</style>\n",
       "<table border=\"1\" class=\"dataframe\">\n",
       "  <thead>\n",
       "    <tr style=\"text-align: right;\">\n",
       "      <th></th>\n",
       "      <th>Max</th>\n",
       "    </tr>\n",
       "    <tr>\n",
       "      <th>AgeGroup</th>\n",
       "      <th></th>\n",
       "    </tr>\n",
       "  </thead>\n",
       "  <tbody>\n",
       "    <tr>\n",
       "      <th>Adult</th>\n",
       "      <td>799</td>\n",
       "    </tr>\n",
       "    <tr>\n",
       "      <th>Senior</th>\n",
       "      <td>76</td>\n",
       "    </tr>\n",
       "    <tr>\n",
       "      <th>Youth</th>\n",
       "      <td>210</td>\n",
       "    </tr>\n",
       "  </tbody>\n",
       "</table>\n",
       "</div>"
      ],
      "text/plain": [
       "          Max\n",
       "AgeGroup     \n",
       "Adult     799\n",
       "Senior     76\n",
       "Youth     210"
      ]
     },
     "execution_count": 35,
     "metadata": {},
     "output_type": "execute_result"
    }
   ],
   "source": [
    "New_data"
   ]
  },
  {
   "cell_type": "code",
   "execution_count": 36,
   "id": "9afab51d",
   "metadata": {},
   "outputs": [
    {
     "data": {
      "text/plain": [
       "Text(0.5, 0, 'AgeGroup')"
      ]
     },
     "execution_count": 36,
     "metadata": {},
     "output_type": "execute_result"
    },
    {
     "data": {
      "image/png": "[encoded data removed]",
      "text/plain": [
       "<Figure size 576x432 with 1 Axes>"
      ]
     },
     "metadata": {
      "needs_background": "light"
     },
     "output_type": "display_data"
    }
   ],
   "source": [
    "New_data.plot(kind='bar',figsize=(8,6),width=(0.6),color='orange')\n",
    "plt.title(\"Max Fraud\",color='red')\n",
    "plt.ylabel('Fraud')\n",
    "plt.xlabel(\"AgeGroup\")"
   ]
  },
  {
   "cell_type": "markdown",
   "id": "43a56ced",
   "metadata": {},
   "source": [
    "##### 14. Visualize the monthly trend of the total amount that has been claimed by the customers. Ensure that on the “month” axis, the month is in a chronological order not alphabetical order."
   ]
  },
  {
   "cell_type": "code",
   "execution_count": 37,
   "id": "e07c58a9",
   "metadata": {},
   "outputs": [],
   "source": [
    "claim['claim_month']=claim['claim_date'].dt.month\n"
   ]
  },
  {
   "cell_type": "code",
   "execution_count": 38,
   "id": "c41012a9",
   "metadata": {},
   "outputs": [
    {
     "data": {
      "text/plain": [
       "Text(0.5, 1.0, 'Total amount')"
      ]
     },
     "execution_count": 38,
     "metadata": {},
     "output_type": "execute_result"
    },
    {
     "data": {
      "image/png": "[encoded data removed]",
      "text/plain": [
       "<Figure size 1008x432 with 1 Axes>"
      ]
     },
     "metadata": {
      "needs_background": "light"
     },
     "output_type": "display_data"
    }
   ],
   "source": [
    "pd.pivot_table(claim,index='claim_month',values='claim_amount').plot(kind='bar',figsize=(14,6),color='violet')\n",
    "plt.title(\"Total amount\",color='red')"
   ]
  },
  {
   "cell_type": "markdown",
   "id": "2aa06a3f",
   "metadata": {},
   "source": [
    "#### 15. What is the average claim amount for gender and age categories and suitably represent the above using a facetted bar chart, one facet that represents fraudulent claims and the other for non-fraudulent claims.\n",
    "Based on the conclusions from exploratory analysis as well as suitable statistical tests, answer the below questions. Please include a detailed write-up on the parameters taken into consideration, the Hypothesis testing steps, conclusion from the p-values and the business implications of the statements.m"
   ]
  },
  {
   "cell_type": "code",
   "execution_count": 39,
   "id": "0de8ccc0",
   "metadata": {},
   "outputs": [
    {
     "data": {
      "text/html": [
       "<div>\n",
       "<style scoped>\n",
       "    .dataframe tbody tr th:only-of-type {\n",
       "        vertical-align: middle;\n",
       "    }\n",
       "\n",
       "    .dataframe tbody tr th {\n",
       "        vertical-align: top;\n",
       "    }\n",
       "\n",
       "    .dataframe thead th {\n",
       "        text-align: right;\n",
       "    }\n",
       "</style>\n",
       "<table border=\"1\" class=\"dataframe\">\n",
       "  <thead>\n",
       "    <tr style=\"text-align: right;\">\n",
       "      <th></th>\n",
       "      <th>gender</th>\n",
       "      <th>DateOfBirth</th>\n",
       "      <th>State</th>\n",
       "      <th>Contact</th>\n",
       "      <th>Segment</th>\n",
       "      <th>claim_id</th>\n",
       "      <th>incident_cause</th>\n",
       "      <th>claim_date</th>\n",
       "      <th>claim_area</th>\n",
       "      <th>claim_type</th>\n",
       "      <th>claim_amount</th>\n",
       "      <th>total_policy_claims</th>\n",
       "      <th>fraudulent</th>\n",
       "      <th>flag</th>\n",
       "      <th>Age</th>\n",
       "      <th>AgeGroup</th>\n",
       "      <th>Max</th>\n",
       "      <th>claim_month</th>\n",
       "    </tr>\n",
       "  </thead>\n",
       "  <tbody>\n",
       "    <tr>\n",
       "      <th>0</th>\n",
       "      <td>Female</td>\n",
       "      <td>1978-05-23</td>\n",
       "      <td>DE</td>\n",
       "      <td>9.628791e+09</td>\n",
       "      <td>Platinum</td>\n",
       "      <td>69348631.0</td>\n",
       "      <td>Driver error</td>\n",
       "      <td>2018-04-10</td>\n",
       "      <td>Auto</td>\n",
       "      <td>Injury only</td>\n",
       "      <td>12470.498519</td>\n",
       "      <td>1.0</td>\n",
       "      <td>Yes</td>\n",
       "      <td>1</td>\n",
       "      <td>44</td>\n",
       "      <td>Adult</td>\n",
       "      <td>0</td>\n",
       "      <td>4.0</td>\n",
       "    </tr>\n",
       "    <tr>\n",
       "      <th>1</th>\n",
       "      <td>Male</td>\n",
       "      <td>1972-12-20</td>\n",
       "      <td>TX</td>\n",
       "      <td>1.738926e+09</td>\n",
       "      <td>Silver</td>\n",
       "      <td>40953049.0</td>\n",
       "      <td>Other causes</td>\n",
       "      <td>2018-04-04</td>\n",
       "      <td>Auto</td>\n",
       "      <td>Material and injury</td>\n",
       "      <td>39192.000000</td>\n",
       "      <td>1.0</td>\n",
       "      <td>Yes</td>\n",
       "      <td>1</td>\n",
       "      <td>50</td>\n",
       "      <td>Adult</td>\n",
       "      <td>0</td>\n",
       "      <td>4.0</td>\n",
       "    </tr>\n",
       "  </tbody>\n",
       "</table>\n",
       "</div>"
      ],
      "text/plain": [
       "   gender DateOfBirth State       Contact   Segment    claim_id  \\\n",
       "0  Female  1978-05-23    DE  9.628791e+09  Platinum  69348631.0   \n",
       "1    Male  1972-12-20    TX  1.738926e+09    Silver  40953049.0   \n",
       "\n",
       "  incident_cause claim_date claim_area           claim_type  claim_amount  \\\n",
       "0   Driver error 2018-04-10       Auto          Injury only  12470.498519   \n",
       "1   Other causes 2018-04-04       Auto  Material and injury  39192.000000   \n",
       "\n",
       "   total_policy_claims fraudulent  flag  Age AgeGroup  Max  claim_month  \n",
       "0                  1.0        Yes     1   44    Adult    0          4.0  \n",
       "1                  1.0        Yes     1   50    Adult    0          4.0  "
      ]
     },
     "execution_count": 39,
     "metadata": {},
     "output_type": "execute_result"
    }
   ],
   "source": [
    "claim.head(2)"
   ]
  },
  {
   "cell_type": "code",
   "execution_count": 40,
   "id": "116800a2",
   "metadata": {
    "scrolled": true
   },
   "outputs": [],
   "source": [
    "fraud=claim.loc[claim.fraudulent=='Yes'].groupby(['gender','AgeGroup'])[['claim_amount']].mean().add_prefix('fraud_')\n",
    "Non_fraud=claim.loc[claim.fraudulent=='No'].groupby(['gender','AgeGroup'])[['claim_amount']].mean().add_prefix('Non_fraud_')"
   ]
  },
  {
   "cell_type": "code",
   "execution_count": 41,
   "id": "da6f92e4",
   "metadata": {},
   "outputs": [
    {
     "data": {
      "text/html": [
       "<div>\n",
       "<style scoped>\n",
       "    .dataframe tbody tr th:only-of-type {\n",
       "        vertical-align: middle;\n",
       "    }\n",
       "\n",
       "    .dataframe tbody tr th {\n",
       "        vertical-align: top;\n",
       "    }\n",
       "\n",
       "    .dataframe thead th {\n",
       "        text-align: right;\n",
       "    }\n",
       "</style>\n",
       "<table border=\"1\" class=\"dataframe\">\n",
       "  <thead>\n",
       "    <tr style=\"text-align: right;\">\n",
       "      <th></th>\n",
       "      <th></th>\n",
       "      <th>Non_fraud_claim_amount</th>\n",
       "    </tr>\n",
       "    <tr>\n",
       "      <th>gender</th>\n",
       "      <th>AgeGroup</th>\n",
       "      <th></th>\n",
       "    </tr>\n",
       "  </thead>\n",
       "  <tbody>\n",
       "    <tr>\n",
       "      <th rowspan=\"3\" valign=\"top\">Female</th>\n",
       "      <th>Adult</th>\n",
       "      <td>12015.891852</td>\n",
       "    </tr>\n",
       "    <tr>\n",
       "      <th>Senior</th>\n",
       "      <td>14957.624630</td>\n",
       "    </tr>\n",
       "    <tr>\n",
       "      <th>Youth</th>\n",
       "      <td>13172.623365</td>\n",
       "    </tr>\n",
       "    <tr>\n",
       "      <th rowspan=\"3\" valign=\"top\">Male</th>\n",
       "      <th>Adult</th>\n",
       "      <td>12183.879708</td>\n",
       "    </tr>\n",
       "    <tr>\n",
       "      <th>Senior</th>\n",
       "      <td>12605.699901</td>\n",
       "    </tr>\n",
       "    <tr>\n",
       "      <th>Youth</th>\n",
       "      <td>12087.420354</td>\n",
       "    </tr>\n",
       "  </tbody>\n",
       "</table>\n",
       "</div>"
      ],
      "text/plain": [
       "                 Non_fraud_claim_amount\n",
       "gender AgeGroup                        \n",
       "Female Adult               12015.891852\n",
       "       Senior              14957.624630\n",
       "       Youth               13172.623365\n",
       "Male   Adult               12183.879708\n",
       "       Senior              12605.699901\n",
       "       Youth               12087.420354"
      ]
     },
     "execution_count": 41,
     "metadata": {},
     "output_type": "execute_result"
    }
   ],
   "source": [
    "Non_fraud"
   ]
  },
  {
   "cell_type": "code",
   "execution_count": 42,
   "id": "af6fb0f0",
   "metadata": {
    "scrolled": false
   },
   "outputs": [
    {
     "data": {
      "text/html": [
       "<div>\n",
       "<style scoped>\n",
       "    .dataframe tbody tr th:only-of-type {\n",
       "        vertical-align: middle;\n",
       "    }\n",
       "\n",
       "    .dataframe tbody tr th {\n",
       "        vertical-align: top;\n",
       "    }\n",
       "\n",
       "    .dataframe thead th {\n",
       "        text-align: right;\n",
       "    }\n",
       "</style>\n",
       "<table border=\"1\" class=\"dataframe\">\n",
       "  <thead>\n",
       "    <tr style=\"text-align: right;\">\n",
       "      <th></th>\n",
       "      <th></th>\n",
       "      <th>fraud_claim_amount</th>\n",
       "      <th>Non_fraud_claim_amount</th>\n",
       "    </tr>\n",
       "    <tr>\n",
       "      <th>gender</th>\n",
       "      <th>AgeGroup</th>\n",
       "      <th></th>\n",
       "      <th></th>\n",
       "    </tr>\n",
       "  </thead>\n",
       "  <tbody>\n",
       "    <tr>\n",
       "      <th rowspan=\"3\" valign=\"top\">Female</th>\n",
       "      <th>Adult</th>\n",
       "      <td>12527.42</td>\n",
       "      <td>12015.89</td>\n",
       "    </tr>\n",
       "    <tr>\n",
       "      <th>Senior</th>\n",
       "      <td>3779.08</td>\n",
       "      <td>14957.62</td>\n",
       "    </tr>\n",
       "    <tr>\n",
       "      <th>Youth</th>\n",
       "      <td>9214.55</td>\n",
       "      <td>13172.62</td>\n",
       "    </tr>\n",
       "    <tr>\n",
       "      <th rowspan=\"3\" valign=\"top\">Male</th>\n",
       "      <th>Adult</th>\n",
       "      <td>16281.50</td>\n",
       "      <td>12183.88</td>\n",
       "    </tr>\n",
       "    <tr>\n",
       "      <th>Senior</th>\n",
       "      <td>16879.12</td>\n",
       "      <td>12605.70</td>\n",
       "    </tr>\n",
       "    <tr>\n",
       "      <th>Youth</th>\n",
       "      <td>7797.89</td>\n",
       "      <td>12087.42</td>\n",
       "    </tr>\n",
       "  </tbody>\n",
       "</table>\n",
       "</div>"
      ],
      "text/plain": [
       "                 fraud_claim_amount  Non_fraud_claim_amount\n",
       "gender AgeGroup                                            \n",
       "Female Adult               12527.42                12015.89\n",
       "       Senior               3779.08                14957.62\n",
       "       Youth                9214.55                13172.62\n",
       "Male   Adult               16281.50                12183.88\n",
       "       Senior              16879.12                12605.70\n",
       "       Youth                7797.89                12087.42"
      ]
     },
     "execution_count": 42,
     "metadata": {},
     "output_type": "execute_result"
    }
   ],
   "source": [
    "Claims_age_gender=round(pd.merge(fraud,Non_fraud, on=[\"gender\",\"AgeGroup\"]),2)\n",
    "\n",
    "Claims_age_gender"
   ]
  },
  {
   "cell_type": "code",
   "execution_count": 483,
   "id": "0ae44b7e",
   "metadata": {},
   "outputs": [
    {
     "data": {
      "text/plain": [
       "array([<AxesSubplot:title={'center':'fraud_claim_amount'}, xlabel='gender,AgeGroup'>,\n",
       "       <AxesSubplot:title={'center':'Non_fraud_claim_amount'}, xlabel='gender,AgeGroup'>],\n",
       "      dtype=object)"
      ]
     },
     "execution_count": 483,
     "metadata": {},
     "output_type": "execute_result"
    },
    {
     "data": {
      "image/png": "[encoded data removed]",
      "text/plain": [
       "<Figure size 576x576 with 2 Axes>"
      ]
     },
     "metadata": {
      "needs_background": "light"
     },
     "output_type": "display_data"
    }
   ],
   "source": [
    "Claims_age_gender.plot(kind='bar',subplots=True,figsize=(8,8))"
   ]
  },
  {
   "cell_type": "markdown",
   "id": "97328965",
   "metadata": {},
   "source": [
    "#### 16. Is there any similarity in the amount claimed by males and females? "
   ]
  },
  {
   "cell_type": "code",
   "execution_count": 43,
   "id": "998045d7",
   "metadata": {},
   "outputs": [],
   "source": [
    "Males_claim=round(claim['claim_amount'].loc[claim.gender=='Male'],2)"
   ]
  },
  {
   "cell_type": "code",
   "execution_count": 44,
   "id": "af85d21a",
   "metadata": {
    "scrolled": true
   },
   "outputs": [],
   "source": [
    "females_claim=round(claim['claim_amount'].loc[claim.gender=='Female'],2)"
   ]
  },
  {
   "cell_type": "code",
   "execution_count": 45,
   "id": "1ac13747",
   "metadata": {},
   "outputs": [
    {
     "data": {
      "text/plain": [
       "1       39192.0\n",
       "2        1621.5\n",
       "3       37040.0\n",
       "5        2630.0\n",
       "6        2920.0\n",
       "         ...   \n",
       "1074     2370.0\n",
       "1079     2260.0\n",
       "1080    21480.0\n",
       "1083     2415.0\n",
       "1084     2310.0\n",
       "Name: claim_amount, Length: 553, dtype: float64"
      ]
     },
     "execution_count": 45,
     "metadata": {},
     "output_type": "execute_result"
    }
   ],
   "source": [
    "Males_claim"
   ]
  },
  {
   "cell_type": "code",
   "execution_count": 499,
   "id": "309a84c6",
   "metadata": {},
   "outputs": [
    {
     "data": {
      "text/plain": [
       "0       12470.5\n",
       "4       35250.0\n",
       "7       21190.0\n",
       "9        2507.0\n",
       "10      25010.0\n",
       "         ...   \n",
       "1076    20033.0\n",
       "1077     3139.5\n",
       "1078     1495.0\n",
       "1081    14360.0\n",
       "1082     1242.0\n",
       "Name: claim_amount, Length: 532, dtype: float64"
      ]
     },
     "execution_count": 499,
     "metadata": {},
     "output_type": "execute_result"
    }
   ],
   "source": [
    "females_claim"
   ]
  },
  {
   "cell_type": "code",
   "execution_count": 57,
   "id": "f50f44c3",
   "metadata": {},
   "outputs": [
    {
     "data": {
      "text/plain": [
       "0.8848199804885036"
      ]
     },
     "execution_count": 57,
     "metadata": {},
     "output_type": "execute_result"
    }
   ],
   "source": [
    "equal_v = stats.ttest_ind(a= Males_claim,b= females_claim,equal_var=True)    \n",
    "equal_v.statistic\n",
    "\n"
   ]
  },
  {
   "cell_type": "code",
   "execution_count": 58,
   "id": "0858eccc",
   "metadata": {},
   "outputs": [
    {
     "data": {
      "text/plain": [
       "0.8854208637908283"
      ]
     },
     "execution_count": 58,
     "metadata": {},
     "output_type": "execute_result"
    }
   ],
   "source": [
    "unequal_v = stats.ttest_ind(a= Males_claim,b= females_claim,equal_var=False)    \n",
    "unequal_v.statistic\n"
   ]
  },
  {
   "cell_type": "code",
   "execution_count": 59,
   "id": "d6417694",
   "metadata": {},
   "outputs": [
    {
     "name": "stdout",
     "output_type": "stream",
     "text": [
      " For the above test, the t-score is 0.8848199804885036 and the p-value is 0.37645012955574586\n",
      "We fail to reject null hypothesis\n"
     ]
    }
   ],
   "source": [
    "t= equal_v.statistic\n",
    "p= equal_v.pvalue\n",
    "\n",
    "print(\" For the above test, the t-score is {} and the p-value is {}\".format(t,p))\n",
    "\n",
    "if(p<0.05):\n",
    "    print('We reject null hypothesis')\n",
    "else:\n",
    "    print('We fail to reject null hypothesis')\n"
   ]
  },
  {
   "cell_type": "markdown",
   "id": "a12f922f",
   "metadata": {},
   "source": [
    "#### 17. Is there any relationship between age category and segment?"
   ]
  },
  {
   "cell_type": "code",
   "execution_count": 63,
   "id": "0e563e74",
   "metadata": {},
   "outputs": [
    {
     "data": {
      "text/html": [
       "<div>\n",
       "<style scoped>\n",
       "    .dataframe tbody tr th:only-of-type {\n",
       "        vertical-align: middle;\n",
       "    }\n",
       "\n",
       "    .dataframe tbody tr th {\n",
       "        vertical-align: top;\n",
       "    }\n",
       "\n",
       "    .dataframe thead th {\n",
       "        text-align: right;\n",
       "    }\n",
       "</style>\n",
       "<table border=\"1\" class=\"dataframe\">\n",
       "  <thead>\n",
       "    <tr style=\"text-align: right;\">\n",
       "      <th></th>\n",
       "      <th>gender</th>\n",
       "      <th>DateOfBirth</th>\n",
       "      <th>State</th>\n",
       "      <th>Contact</th>\n",
       "      <th>Segment</th>\n",
       "      <th>claim_id</th>\n",
       "      <th>incident_cause</th>\n",
       "      <th>claim_date</th>\n",
       "      <th>claim_area</th>\n",
       "      <th>claim_type</th>\n",
       "      <th>claim_amount</th>\n",
       "      <th>total_policy_claims</th>\n",
       "      <th>fraudulent</th>\n",
       "      <th>flag</th>\n",
       "      <th>Age</th>\n",
       "      <th>AgeGroup</th>\n",
       "      <th>Max</th>\n",
       "      <th>claim_month</th>\n",
       "    </tr>\n",
       "  </thead>\n",
       "  <tbody>\n",
       "    <tr>\n",
       "      <th>0</th>\n",
       "      <td>Female</td>\n",
       "      <td>1978-05-23</td>\n",
       "      <td>DE</td>\n",
       "      <td>9.628791e+09</td>\n",
       "      <td>Platinum</td>\n",
       "      <td>69348631.0</td>\n",
       "      <td>Driver error</td>\n",
       "      <td>2018-04-10</td>\n",
       "      <td>Auto</td>\n",
       "      <td>Injury only</td>\n",
       "      <td>12470.498519</td>\n",
       "      <td>1.0</td>\n",
       "      <td>Yes</td>\n",
       "      <td>1</td>\n",
       "      <td>44</td>\n",
       "      <td>Adult</td>\n",
       "      <td>0</td>\n",
       "      <td>4.0</td>\n",
       "    </tr>\n",
       "    <tr>\n",
       "      <th>1</th>\n",
       "      <td>Male</td>\n",
       "      <td>1972-12-20</td>\n",
       "      <td>TX</td>\n",
       "      <td>1.738926e+09</td>\n",
       "      <td>Silver</td>\n",
       "      <td>40953049.0</td>\n",
       "      <td>Other causes</td>\n",
       "      <td>2018-04-04</td>\n",
       "      <td>Auto</td>\n",
       "      <td>Material and injury</td>\n",
       "      <td>39192.000000</td>\n",
       "      <td>1.0</td>\n",
       "      <td>Yes</td>\n",
       "      <td>1</td>\n",
       "      <td>50</td>\n",
       "      <td>Adult</td>\n",
       "      <td>0</td>\n",
       "      <td>4.0</td>\n",
       "    </tr>\n",
       "  </tbody>\n",
       "</table>\n",
       "</div>"
      ],
      "text/plain": [
       "   gender DateOfBirth State       Contact   Segment    claim_id  \\\n",
       "0  Female  1978-05-23    DE  9.628791e+09  Platinum  69348631.0   \n",
       "1    Male  1972-12-20    TX  1.738926e+09    Silver  40953049.0   \n",
       "\n",
       "  incident_cause claim_date claim_area           claim_type  claim_amount  \\\n",
       "0   Driver error 2018-04-10       Auto          Injury only  12470.498519   \n",
       "1   Other causes 2018-04-04       Auto  Material and injury  39192.000000   \n",
       "\n",
       "   total_policy_claims fraudulent  flag  Age AgeGroup  Max  claim_month  \n",
       "0                  1.0        Yes     1   44    Adult    0          4.0  \n",
       "1                  1.0        Yes     1   50    Adult    0          4.0  "
      ]
     },
     "execution_count": 63,
     "metadata": {},
     "output_type": "execute_result"
    }
   ],
   "source": [
    "claim.head(2)"
   ]
  },
  {
   "cell_type": "code",
   "execution_count": 61,
   "id": "05e51a99",
   "metadata": {},
   "outputs": [
    {
     "data": {
      "text/html": [
       "<div>\n",
       "<style scoped>\n",
       "    .dataframe tbody tr th:only-of-type {\n",
       "        vertical-align: middle;\n",
       "    }\n",
       "\n",
       "    .dataframe tbody tr th {\n",
       "        vertical-align: top;\n",
       "    }\n",
       "\n",
       "    .dataframe thead th {\n",
       "        text-align: right;\n",
       "    }\n",
       "</style>\n",
       "<table border=\"1\" class=\"dataframe\">\n",
       "  <thead>\n",
       "    <tr style=\"text-align: right;\">\n",
       "      <th>Segment</th>\n",
       "      <th>Gold</th>\n",
       "      <th>Platinum</th>\n",
       "      <th>Silver</th>\n",
       "      <th>All</th>\n",
       "    </tr>\n",
       "    <tr>\n",
       "      <th>AgeGroup</th>\n",
       "      <th></th>\n",
       "      <th></th>\n",
       "      <th></th>\n",
       "      <th></th>\n",
       "    </tr>\n",
       "  </thead>\n",
       "  <tbody>\n",
       "    <tr>\n",
       "      <th>Adult</th>\n",
       "      <td>273</td>\n",
       "      <td>268</td>\n",
       "      <td>258</td>\n",
       "      <td>799</td>\n",
       "    </tr>\n",
       "    <tr>\n",
       "      <th>Senior</th>\n",
       "      <td>28</td>\n",
       "      <td>26</td>\n",
       "      <td>22</td>\n",
       "      <td>76</td>\n",
       "    </tr>\n",
       "    <tr>\n",
       "      <th>Youth</th>\n",
       "      <td>71</td>\n",
       "      <td>70</td>\n",
       "      <td>69</td>\n",
       "      <td>210</td>\n",
       "    </tr>\n",
       "    <tr>\n",
       "      <th>All</th>\n",
       "      <td>372</td>\n",
       "      <td>364</td>\n",
       "      <td>349</td>\n",
       "      <td>1085</td>\n",
       "    </tr>\n",
       "  </tbody>\n",
       "</table>\n",
       "</div>"
      ],
      "text/plain": [
       "Segment   Gold  Platinum  Silver   All\n",
       "AgeGroup                              \n",
       "Adult      273       268     258   799\n",
       "Senior      28        26      22    76\n",
       "Youth       71        70      69   210\n",
       "All        372       364     349  1085"
      ]
     },
     "execution_count": 61,
     "metadata": {},
     "output_type": "execute_result"
    }
   ],
   "source": [
    "Age_Seg= pd.crosstab(claim.AgeGroup, claim.Segment, margins = True)\n",
    "Age_Seg\n"
   ]
  },
  {
   "cell_type": "code",
   "execution_count": 64,
   "id": "5c4c2a8c",
   "metadata": {},
   "outputs": [
    {
     "data": {
      "text/plain": [
       "(0.4546321740231326,\n",
       " 0.9999797946451449,\n",
       " 9,\n",
       " array([[ 273.94285714,  268.0516129 ,  257.00552995,  799.        ],\n",
       "        [  26.05714286,   25.49677419,   24.44608295,   76.        ],\n",
       "        [  72.        ,   70.4516129 ,   67.5483871 ,  210.        ],\n",
       "        [ 372.        ,  364.        ,  349.        , 1085.        ]]))"
      ]
     },
     "execution_count": 64,
     "metadata": {},
     "output_type": "execute_result"
    }
   ],
   "source": [
    "Chi_test = stats.chi2_contingency(observed= Age_Seg)\n",
    "Chi_test"
   ]
  },
  {
   "cell_type": "code",
   "execution_count": 65,
   "id": "7723ab8c",
   "metadata": {
    "scrolled": true
   },
   "outputs": [
    {
     "name": "stdout",
     "output_type": "stream",
     "text": [
      "The chi square stat is 0.4546321740231326 and the p value is 0.9999797946451449\n"
     ]
    }
   ],
   "source": [
    "print(\"The chi square stat is {} and the p value is {}\".format(Chi_test[0],Chi_test[1]))"
   ]
  },
  {
   "cell_type": "markdown",
   "id": "73c87a67",
   "metadata": {},
   "source": [
    "#### 18. The current year has shown a significant rise in claim amounts as\n",
    "compared to 2016-17 fiscal average which was $10,000."
   ]
  },
  {
   "cell_type": "code",
   "execution_count": 66,
   "id": "e0505809",
   "metadata": {},
   "outputs": [
    {
     "data": {
      "text/html": [
       "<div>\n",
       "<style scoped>\n",
       "    .dataframe tbody tr th:only-of-type {\n",
       "        vertical-align: middle;\n",
       "    }\n",
       "\n",
       "    .dataframe tbody tr th {\n",
       "        vertical-align: top;\n",
       "    }\n",
       "\n",
       "    .dataframe thead th {\n",
       "        text-align: right;\n",
       "    }\n",
       "</style>\n",
       "<table border=\"1\" class=\"dataframe\">\n",
       "  <thead>\n",
       "    <tr style=\"text-align: right;\">\n",
       "      <th></th>\n",
       "      <th>gender</th>\n",
       "      <th>DateOfBirth</th>\n",
       "      <th>State</th>\n",
       "      <th>Contact</th>\n",
       "      <th>Segment</th>\n",
       "      <th>claim_id</th>\n",
       "      <th>incident_cause</th>\n",
       "      <th>claim_date</th>\n",
       "      <th>claim_area</th>\n",
       "      <th>claim_type</th>\n",
       "      <th>claim_amount</th>\n",
       "      <th>total_policy_claims</th>\n",
       "      <th>fraudulent</th>\n",
       "      <th>flag</th>\n",
       "      <th>Age</th>\n",
       "      <th>AgeGroup</th>\n",
       "      <th>Max</th>\n",
       "      <th>claim_month</th>\n",
       "    </tr>\n",
       "  </thead>\n",
       "  <tbody>\n",
       "    <tr>\n",
       "      <th>0</th>\n",
       "      <td>Female</td>\n",
       "      <td>1978-05-23</td>\n",
       "      <td>DE</td>\n",
       "      <td>9.628791e+09</td>\n",
       "      <td>Platinum</td>\n",
       "      <td>69348631.0</td>\n",
       "      <td>Driver error</td>\n",
       "      <td>2018-04-10</td>\n",
       "      <td>Auto</td>\n",
       "      <td>Injury only</td>\n",
       "      <td>12470.498519</td>\n",
       "      <td>1.0</td>\n",
       "      <td>Yes</td>\n",
       "      <td>1</td>\n",
       "      <td>44</td>\n",
       "      <td>Adult</td>\n",
       "      <td>0</td>\n",
       "      <td>4.0</td>\n",
       "    </tr>\n",
       "    <tr>\n",
       "      <th>1</th>\n",
       "      <td>Male</td>\n",
       "      <td>1972-12-20</td>\n",
       "      <td>TX</td>\n",
       "      <td>1.738926e+09</td>\n",
       "      <td>Silver</td>\n",
       "      <td>40953049.0</td>\n",
       "      <td>Other causes</td>\n",
       "      <td>2018-04-04</td>\n",
       "      <td>Auto</td>\n",
       "      <td>Material and injury</td>\n",
       "      <td>39192.000000</td>\n",
       "      <td>1.0</td>\n",
       "      <td>Yes</td>\n",
       "      <td>1</td>\n",
       "      <td>50</td>\n",
       "      <td>Adult</td>\n",
       "      <td>0</td>\n",
       "      <td>4.0</td>\n",
       "    </tr>\n",
       "  </tbody>\n",
       "</table>\n",
       "</div>"
      ],
      "text/plain": [
       "   gender DateOfBirth State       Contact   Segment    claim_id  \\\n",
       "0  Female  1978-05-23    DE  9.628791e+09  Platinum  69348631.0   \n",
       "1    Male  1972-12-20    TX  1.738926e+09    Silver  40953049.0   \n",
       "\n",
       "  incident_cause claim_date claim_area           claim_type  claim_amount  \\\n",
       "0   Driver error 2018-04-10       Auto          Injury only  12470.498519   \n",
       "1   Other causes 2018-04-04       Auto  Material and injury  39192.000000   \n",
       "\n",
       "   total_policy_claims fraudulent  flag  Age AgeGroup  Max  claim_month  \n",
       "0                  1.0        Yes     1   44    Adult    0          4.0  \n",
       "1                  1.0        Yes     1   50    Adult    0          4.0  "
      ]
     },
     "execution_count": 66,
     "metadata": {},
     "output_type": "execute_result"
    }
   ],
   "source": [
    "claim.head(2)"
   ]
  },
  {
   "cell_type": "code",
   "execution_count": 73,
   "id": "9b001d55",
   "metadata": {},
   "outputs": [],
   "source": [
    "claim[\"Year\"]=claim['claim_date'].dt.year"
   ]
  },
  {
   "cell_type": "code",
   "execution_count": 75,
   "id": "3c52405c",
   "metadata": {},
   "outputs": [],
   "source": [
    "Current_year= claim.loc[claim.Year == 2018][\"claim_amount\"]\n",
    "amt_2016_17= claim.loc[claim.Year==2017][\"claim_amount\"]"
   ]
  },
  {
   "cell_type": "code",
   "execution_count": null,
   "id": "31b5ec48",
   "metadata": {},
   "outputs": [],
   "source": [
    "stats.pearsonr(Current_year,amt_2016_17)"
   ]
  },
  {
   "cell_type": "markdown",
   "id": "bd8de147",
   "metadata": {},
   "source": [
    "#### 19. Is there any difference between age groups and insurance claims?"
   ]
  },
  {
   "cell_type": "code",
   "execution_count": 82,
   "id": "9300ab43",
   "metadata": {},
   "outputs": [],
   "source": [
    "Age_group_1 = claim['total_policy_claims'].loc[claim['AgeGroup']==\"Youth\"]\n",
    "Age_group_2 = claim['total_policy_claims'].loc[claim['AgeGroup']==\"Adult\"]\n",
    "anova = stats.f_oneway(Age_group_1,Age_group_2 )\n",
    "f = anova.statistic\n",
    "p = anova.pvalue\n"
   ]
  },
  {
   "cell_type": "code",
   "execution_count": 85,
   "id": "0d053d5d",
   "metadata": {},
   "outputs": [
    {
     "name": "stdout",
     "output_type": "stream",
     "text": [
      "The f-value is nan and the p value is nan\n",
      "We fail to reject null hypothesis\n"
     ]
    }
   ],
   "source": [
    "print(\"The f-value is {} and the p value is {}\".format(f,p))\n",
    "if(p<0.05):\n",
    "    print('We reject null hypothesis')\n",
    "else:\n",
    "    print('We fail to reject null hypothesis')"
   ]
  },
  {
   "cell_type": "markdown",
   "id": "d3e12c70",
   "metadata": {},
   "source": [
    "#### 20. Is there any relationship between total number of policy claims and the claimed amount?"
   ]
  },
  {
   "cell_type": "code",
   "execution_count": 87,
   "id": "176dc9e5",
   "metadata": {},
   "outputs": [],
   "source": [
    "claim['total_policy_claims'] = pd.to_numeric(claim['total_policy_claims'])"
   ]
  },
  {
   "cell_type": "code",
   "execution_count": 89,
   "id": "c88b8c3c",
   "metadata": {},
   "outputs": [
    {
     "data": {
      "text/plain": [
       "-0.01436903613753471"
      ]
     },
     "execution_count": 89,
     "metadata": {},
     "output_type": "execute_result"
    }
   ],
   "source": [
    "claim.total_policy_claims.corr(other= claim.claim_amount)"
   ]
  },
  {
   "cell_type": "markdown",
   "id": "53bb6403",
   "metadata": {},
   "source": [
    "As the correlation is negative the number of policy claims in inversely propotional to the claimed amount."
   ]
  }
 ],
 "metadata": {
  "kernelspec": {
   "display_name": "Python 3 (ipykernel)",
   "language": "python",
   "name": "python3"
  },
  "language_info": {
   "codemirror_mode": {
    "name": "ipython",
    "version": 3
   },
   "file_extension": ".py",
   "mimetype": "text/x-python",
   "name": "python",
   "nbconvert_exporter": "python",
   "pygments_lexer": "ipython3",
   "version": "3.9.7"
  }
 },
 "nbformat": 4,
 "nbformat_minor": 5
}
